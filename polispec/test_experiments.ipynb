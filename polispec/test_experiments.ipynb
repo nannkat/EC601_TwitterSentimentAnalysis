{
 "cells": [
  {
   "cell_type": "markdown",
   "metadata": {},
   "source": [
    "# Experiments on edge cases and error handling for some features\n",
    "\n",
    "Output was left as is to show the development.\n",
    "\n",
    "The following features were tested and corrected for (if needed):\n",
    "- What happens if you put two strings instead of one to Politician() constructor\n",
    "- User puts in a large number of hours -> program takes too long\n",
    "- Query that gives no results\n",
    "- Query with random person (that does give results)\n",
    "- User requests to display more tweets than were returned (large page size of examples)\n",
    "\n",
    "Additionally control was added for:\n",
    "- User input of negative hours\n",
    "- User wants to cancel analysis (taking too long or they made a mistake)"
   ]
  },
  {
   "cell_type": "markdown",
   "metadata": {},
   "source": [
    "## Imports"
   ]
  },
  {
   "cell_type": "code",
   "execution_count": 2,
   "metadata": {},
   "outputs": [],
   "source": [
    "import polispec\n",
    "from polispec import Politician, twitter, google_api\n"
   ]
  },
  {
   "cell_type": "markdown",
   "metadata": {},
   "source": [
    "## Check what happens if you put two names instead of one "
   ]
  },
  {
   "cell_type": "code",
   "execution_count": 3,
   "metadata": {},
   "outputs": [
    {
     "ename": "TypeError",
     "evalue": "__init__() takes 2 positional arguments but 3 were given",
     "output_type": "error",
     "traceback": [
      "\u001b[0;31m---------------------------------------------------------------------------\u001b[0m",
      "\u001b[0;31mTypeError\u001b[0m                                 Traceback (most recent call last)",
      "\u001b[0;32m<ipython-input-3-9f7265cabb24>\u001b[0m in \u001b[0;36m<module>\u001b[0;34m\u001b[0m\n\u001b[0;32m----> 1\u001b[0;31m \u001b[0mdonald\u001b[0m \u001b[0;34m=\u001b[0m \u001b[0mPolitician\u001b[0m\u001b[0;34m(\u001b[0m\u001b[0;34m'Donald'\u001b[0m \u001b[0;34m,\u001b[0m\u001b[0;34m'Trump'\u001b[0m\u001b[0;34m)\u001b[0m\u001b[0;34m\u001b[0m\u001b[0;34m\u001b[0m\u001b[0m\n\u001b[0m",
      "\u001b[0;31mTypeError\u001b[0m: __init__() takes 2 positional arguments but 3 were given"
     ]
    }
   ],
   "source": [
    "donald = Politician('Donald' ,'Trump')"
   ]
  },
  {
   "cell_type": "markdown",
   "metadata": {},
   "source": [
    "Decision: keep the default error message, easier."
   ]
  },
  {
   "cell_type": "markdown",
   "metadata": {},
   "source": [
    "## User puts in a large number of hours (that might make system crash)"
   ]
  },
  {
   "cell_type": "code",
   "execution_count": 2,
   "metadata": {},
   "outputs": [
    {
     "name": "stdout",
     "output_type": "stream",
     "text": [
      "Joe Biden, tweets: 0, positive:0, negative: 0, neutral: 0\n"
     ]
    }
   ],
   "source": [
    "biden = Politician('Joe Biden')\n",
    "print(biden)"
   ]
  },
  {
   "cell_type": "code",
   "execution_count": 3,
   "metadata": {},
   "outputs": [
    {
     "name": "stdout",
     "output_type": "stream",
     "text": [
      "Google api client connection established...\n",
      "\n",
      "Query for twitter api: https://api.twitter.com/2/tweets/search/recent?query=Joe%20Biden%20lang%3Aen%20-is%3Aretweet%20-is%3Areply\n",
      "\n",
      "Analyzing....\n",
      "\n",
      "Tweets processed: 100\n",
      "Tweets processed: 199\n",
      "Tweets processed: 298\n",
      "Tweets processed: 397\n",
      "Tweets processed: 496\n",
      "Tweets processed: 595\n",
      "Tweets processed: 694\n",
      "Tweets processed: 793\n",
      "Tweets processed: 892\n",
      "Tweets processed: 991\n",
      "Tweets processed: 1090\n",
      "Tweets processed: 1189\n",
      "Tweets processed: 1288\n",
      "Tweets processed: 1387\n",
      "Tweets processed: 1486\n",
      "Tweets processed: 1585\n",
      "Tweets processed: 1684\n",
      "Tweets processed: 1782\n",
      "Tweets processed: 1881\n",
      "Tweets processed: 1980\n",
      "Tweets processed: 2079\n",
      "Tweets processed: 2178\n",
      "Tweets processed: 2277\n",
      "Tweets processed: 2376\n",
      "Tweets processed: 2474\n",
      "Tweets processed: 2573\n",
      "Tweets processed: 2672\n",
      "Tweets processed: 2771\n",
      "Tweets processed: 2870\n",
      "Tweets processed: 2969\n",
      "Tweets processed: 3068\n",
      "Tweets processed: 3167\n",
      "Tweets processed: 3266\n",
      "Tweets processed: 3365\n",
      "Tweets processed: 3464\n",
      "Tweets processed: 3563\n",
      "Tweets processed: 3662\n",
      "Tweets processed: 3761\n"
     ]
    },
    {
     "ename": "KeyboardInterrupt",
     "evalue": "",
     "output_type": "error",
     "traceback": [
      "\u001b[0;31m---------------------------------------------------------------------------\u001b[0m",
      "\u001b[0;31mKeyboardInterrupt\u001b[0m                         Traceback (most recent call last)",
      "\u001b[0;32m<ipython-input-3-b887d0b8eabd>\u001b[0m in \u001b[0;36m<module>\u001b[0;34m\u001b[0m\n\u001b[0;32m----> 1\u001b[0;31m \u001b[0mbiden\u001b[0m\u001b[0;34m.\u001b[0m\u001b[0manalyze_tweets\u001b[0m\u001b[0;34m(\u001b[0m\u001b[0mhour_count\u001b[0m\u001b[0;34m=\u001b[0m\u001b[0;36m40\u001b[0m\u001b[0;34m)\u001b[0m\u001b[0;34m\u001b[0m\u001b[0;34m\u001b[0m\u001b[0m\n\u001b[0m",
      "\u001b[0;32m~/Desktop/EC601/twitter_sentiment_analysis/polispec/polispec.py\u001b[0m in \u001b[0;36manalyze_tweets\u001b[0;34m(self, hour_count, display)\u001b[0m\n\u001b[1;32m    144\u001b[0m                         \u001b[0mtweet_dict\u001b[0m\u001b[0;34m[\u001b[0m\u001b[0;34m'like_count'\u001b[0m\u001b[0;34m]\u001b[0m\u001b[0;34m.\u001b[0m\u001b[0mappend\u001b[0m\u001b[0;34m(\u001b[0m\u001b[0mtweet\u001b[0m\u001b[0;34m.\u001b[0m\u001b[0mget_likes\u001b[0m\u001b[0;34m(\u001b[0m\u001b[0;34m)\u001b[0m\u001b[0;34m)\u001b[0m\u001b[0;34m\u001b[0m\u001b[0;34m\u001b[0m\u001b[0m\n\u001b[1;32m    145\u001b[0m \u001b[0;34m\u001b[0m\u001b[0m\n\u001b[0;32m--> 146\u001b[0;31m                         \u001b[0mtext\u001b[0m\u001b[0;34m,\u001b[0m \u001b[0mfeeling\u001b[0m\u001b[0;34m,\u001b[0m \u001b[0mscore\u001b[0m \u001b[0;34m=\u001b[0m \u001b[0mgoogle_api\u001b[0m\u001b[0;34m.\u001b[0m\u001b[0manalyze_tweet\u001b[0m\u001b[0;34m(\u001b[0m\u001b[0mtweet\u001b[0m\u001b[0;34m.\u001b[0m\u001b[0mtext\u001b[0m\u001b[0;34m,\u001b[0m \u001b[0mgoogle_client\u001b[0m\u001b[0;34m)\u001b[0m\u001b[0;34m\u001b[0m\u001b[0;34m\u001b[0m\u001b[0m\n\u001b[0m\u001b[1;32m    147\u001b[0m                         \u001b[0mtweet_dict\u001b[0m\u001b[0;34m[\u001b[0m\u001b[0;34m'text'\u001b[0m\u001b[0;34m]\u001b[0m\u001b[0;34m.\u001b[0m\u001b[0mappend\u001b[0m\u001b[0;34m(\u001b[0m\u001b[0mtext\u001b[0m\u001b[0;34m)\u001b[0m\u001b[0;34m\u001b[0m\u001b[0;34m\u001b[0m\u001b[0m\n\u001b[1;32m    148\u001b[0m                         \u001b[0mtweet_dict\u001b[0m\u001b[0;34m[\u001b[0m\u001b[0;34m'score'\u001b[0m\u001b[0;34m]\u001b[0m\u001b[0;34m.\u001b[0m\u001b[0mappend\u001b[0m\u001b[0;34m(\u001b[0m\u001b[0mround\u001b[0m\u001b[0;34m(\u001b[0m\u001b[0mfloat\u001b[0m\u001b[0;34m(\u001b[0m\u001b[0mscore\u001b[0m\u001b[0;34m)\u001b[0m\u001b[0;34m,\u001b[0m\u001b[0;36m2\u001b[0m\u001b[0;34m)\u001b[0m\u001b[0;34m)\u001b[0m\u001b[0;34m\u001b[0m\u001b[0;34m\u001b[0m\u001b[0m\n",
      "\u001b[0;32m~/Desktop/EC601/twitter_sentiment_analysis/polispec/google_api.py\u001b[0m in \u001b[0;36manalyze_tweet\u001b[0;34m(tweet_text, client)\u001b[0m\n\u001b[1;32m     29\u001b[0m     Connects to the endpoint and returns a tuple with the original tweet text, it's sentiment and score\"\"\"\n\u001b[1;32m     30\u001b[0m     \u001b[0mdoc\u001b[0m \u001b[0;34m=\u001b[0m \u001b[0mlanguage_v1\u001b[0m\u001b[0;34m.\u001b[0m\u001b[0mDocument\u001b[0m\u001b[0;34m(\u001b[0m\u001b[0mcontent\u001b[0m \u001b[0;34m=\u001b[0m \u001b[0mtweet_text\u001b[0m\u001b[0;34m,\u001b[0m \u001b[0mtype_\u001b[0m\u001b[0;34m=\u001b[0m \u001b[0mlanguage_v1\u001b[0m\u001b[0;34m.\u001b[0m\u001b[0mDocument\u001b[0m\u001b[0;34m.\u001b[0m\u001b[0mType\u001b[0m\u001b[0;34m.\u001b[0m\u001b[0mPLAIN_TEXT\u001b[0m\u001b[0;34m)\u001b[0m\u001b[0;34m\u001b[0m\u001b[0;34m\u001b[0m\u001b[0m\n\u001b[0;32m---> 31\u001b[0;31m     \u001b[0msentiment_analysis\u001b[0m \u001b[0;34m=\u001b[0m \u001b[0mclient\u001b[0m\u001b[0;34m.\u001b[0m\u001b[0manalyze_sentiment\u001b[0m\u001b[0;34m(\u001b[0m\u001b[0mrequest\u001b[0m \u001b[0;34m=\u001b[0m\u001b[0;34m{\u001b[0m\u001b[0;34m'document'\u001b[0m\u001b[0;34m:\u001b[0m \u001b[0mdoc\u001b[0m\u001b[0;34m}\u001b[0m\u001b[0;34m)\u001b[0m\u001b[0;34m\u001b[0m\u001b[0;34m\u001b[0m\u001b[0m\n\u001b[0m\u001b[1;32m     32\u001b[0m     \u001b[0mscore\u001b[0m \u001b[0;34m=\u001b[0m \u001b[0msentiment_analysis\u001b[0m\u001b[0;34m.\u001b[0m\u001b[0mdocument_sentiment\u001b[0m\u001b[0;34m.\u001b[0m\u001b[0mscore\u001b[0m\u001b[0;34m\u001b[0m\u001b[0;34m\u001b[0m\u001b[0m\n\u001b[1;32m     33\u001b[0m     \u001b[0msentiment\u001b[0m \u001b[0;34m=\u001b[0m \u001b[0mget_sentiment\u001b[0m\u001b[0;34m(\u001b[0m\u001b[0mscore\u001b[0m\u001b[0;34m)\u001b[0m\u001b[0;34m\u001b[0m\u001b[0;34m\u001b[0m\u001b[0m\n",
      "\u001b[0;32m/Library/Frameworks/Python.framework/Versions/3.9/lib/python3.9/site-packages/google/cloud/language_v1/services/language_service/client.py\u001b[0m in \u001b[0;36manalyze_sentiment\u001b[0;34m(self, request, document, encoding_type, retry, timeout, metadata)\u001b[0m\n\u001b[1;32m    404\u001b[0m \u001b[0;34m\u001b[0m\u001b[0m\n\u001b[1;32m    405\u001b[0m         \u001b[0;31m# Send the request.\u001b[0m\u001b[0;34m\u001b[0m\u001b[0;34m\u001b[0m\u001b[0;34m\u001b[0m\u001b[0m\n\u001b[0;32m--> 406\u001b[0;31m         \u001b[0mresponse\u001b[0m \u001b[0;34m=\u001b[0m \u001b[0mrpc\u001b[0m\u001b[0;34m(\u001b[0m\u001b[0mrequest\u001b[0m\u001b[0;34m,\u001b[0m \u001b[0mretry\u001b[0m\u001b[0;34m=\u001b[0m\u001b[0mretry\u001b[0m\u001b[0;34m,\u001b[0m \u001b[0mtimeout\u001b[0m\u001b[0;34m=\u001b[0m\u001b[0mtimeout\u001b[0m\u001b[0;34m,\u001b[0m \u001b[0mmetadata\u001b[0m\u001b[0;34m=\u001b[0m\u001b[0mmetadata\u001b[0m\u001b[0;34m,\u001b[0m\u001b[0;34m)\u001b[0m\u001b[0;34m\u001b[0m\u001b[0;34m\u001b[0m\u001b[0m\n\u001b[0m\u001b[1;32m    407\u001b[0m \u001b[0;34m\u001b[0m\u001b[0m\n\u001b[1;32m    408\u001b[0m         \u001b[0;31m# Done; return the response.\u001b[0m\u001b[0;34m\u001b[0m\u001b[0;34m\u001b[0m\u001b[0;34m\u001b[0m\u001b[0m\n",
      "\u001b[0;32m/Library/Frameworks/Python.framework/Versions/3.9/lib/python3.9/site-packages/google/api_core/gapic_v1/method.py\u001b[0m in \u001b[0;36m__call__\u001b[0;34m(self, timeout, retry, *args, **kwargs)\u001b[0m\n\u001b[1;32m    140\u001b[0m             \u001b[0mkwargs\u001b[0m\u001b[0;34m[\u001b[0m\u001b[0;34m\"metadata\"\u001b[0m\u001b[0;34m]\u001b[0m \u001b[0;34m=\u001b[0m \u001b[0mmetadata\u001b[0m\u001b[0;34m\u001b[0m\u001b[0;34m\u001b[0m\u001b[0m\n\u001b[1;32m    141\u001b[0m \u001b[0;34m\u001b[0m\u001b[0m\n\u001b[0;32m--> 142\u001b[0;31m         \u001b[0;32mreturn\u001b[0m \u001b[0mwrapped_func\u001b[0m\u001b[0;34m(\u001b[0m\u001b[0;34m*\u001b[0m\u001b[0margs\u001b[0m\u001b[0;34m,\u001b[0m \u001b[0;34m**\u001b[0m\u001b[0mkwargs\u001b[0m\u001b[0;34m)\u001b[0m\u001b[0;34m\u001b[0m\u001b[0;34m\u001b[0m\u001b[0m\n\u001b[0m\u001b[1;32m    143\u001b[0m \u001b[0;34m\u001b[0m\u001b[0m\n\u001b[1;32m    144\u001b[0m \u001b[0;34m\u001b[0m\u001b[0m\n",
      "\u001b[0;32m/Library/Frameworks/Python.framework/Versions/3.9/lib/python3.9/site-packages/google/api_core/retry.py\u001b[0m in \u001b[0;36mretry_wrapped_func\u001b[0;34m(*args, **kwargs)\u001b[0m\n\u001b[1;32m    281\u001b[0m                 \u001b[0mself\u001b[0m\u001b[0;34m.\u001b[0m\u001b[0m_initial\u001b[0m\u001b[0;34m,\u001b[0m \u001b[0mself\u001b[0m\u001b[0;34m.\u001b[0m\u001b[0m_maximum\u001b[0m\u001b[0;34m,\u001b[0m \u001b[0mmultiplier\u001b[0m\u001b[0;34m=\u001b[0m\u001b[0mself\u001b[0m\u001b[0;34m.\u001b[0m\u001b[0m_multiplier\u001b[0m\u001b[0;34m\u001b[0m\u001b[0;34m\u001b[0m\u001b[0m\n\u001b[1;32m    282\u001b[0m             )\n\u001b[0;32m--> 283\u001b[0;31m             return retry_target(\n\u001b[0m\u001b[1;32m    284\u001b[0m                 \u001b[0mtarget\u001b[0m\u001b[0;34m,\u001b[0m\u001b[0;34m\u001b[0m\u001b[0;34m\u001b[0m\u001b[0m\n\u001b[1;32m    285\u001b[0m                 \u001b[0mself\u001b[0m\u001b[0;34m.\u001b[0m\u001b[0m_predicate\u001b[0m\u001b[0;34m,\u001b[0m\u001b[0;34m\u001b[0m\u001b[0;34m\u001b[0m\u001b[0m\n",
      "\u001b[0;32m/Library/Frameworks/Python.framework/Versions/3.9/lib/python3.9/site-packages/google/api_core/retry.py\u001b[0m in \u001b[0;36mretry_target\u001b[0;34m(target, predicate, sleep_generator, deadline, on_error)\u001b[0m\n\u001b[1;32m    188\u001b[0m     \u001b[0;32mfor\u001b[0m \u001b[0msleep\u001b[0m \u001b[0;32min\u001b[0m \u001b[0msleep_generator\u001b[0m\u001b[0;34m:\u001b[0m\u001b[0;34m\u001b[0m\u001b[0;34m\u001b[0m\u001b[0m\n\u001b[1;32m    189\u001b[0m         \u001b[0;32mtry\u001b[0m\u001b[0;34m:\u001b[0m\u001b[0;34m\u001b[0m\u001b[0;34m\u001b[0m\u001b[0m\n\u001b[0;32m--> 190\u001b[0;31m             \u001b[0;32mreturn\u001b[0m \u001b[0mtarget\u001b[0m\u001b[0;34m(\u001b[0m\u001b[0;34m)\u001b[0m\u001b[0;34m\u001b[0m\u001b[0;34m\u001b[0m\u001b[0m\n\u001b[0m\u001b[1;32m    191\u001b[0m \u001b[0;34m\u001b[0m\u001b[0m\n\u001b[1;32m    192\u001b[0m         \u001b[0;31m# pylint: disable=broad-except\u001b[0m\u001b[0;34m\u001b[0m\u001b[0;34m\u001b[0m\u001b[0;34m\u001b[0m\u001b[0m\n",
      "\u001b[0;32m/Library/Frameworks/Python.framework/Versions/3.9/lib/python3.9/site-packages/google/api_core/grpc_helpers.py\u001b[0m in \u001b[0;36merror_remapped_callable\u001b[0;34m(*args, **kwargs)\u001b[0m\n\u001b[1;32m     64\u001b[0m     \u001b[0;32mdef\u001b[0m \u001b[0merror_remapped_callable\u001b[0m\u001b[0;34m(\u001b[0m\u001b[0;34m*\u001b[0m\u001b[0margs\u001b[0m\u001b[0;34m,\u001b[0m \u001b[0;34m**\u001b[0m\u001b[0mkwargs\u001b[0m\u001b[0;34m)\u001b[0m\u001b[0;34m:\u001b[0m\u001b[0;34m\u001b[0m\u001b[0;34m\u001b[0m\u001b[0m\n\u001b[1;32m     65\u001b[0m         \u001b[0;32mtry\u001b[0m\u001b[0;34m:\u001b[0m\u001b[0;34m\u001b[0m\u001b[0;34m\u001b[0m\u001b[0m\n\u001b[0;32m---> 66\u001b[0;31m             \u001b[0;32mreturn\u001b[0m \u001b[0mcallable_\u001b[0m\u001b[0;34m(\u001b[0m\u001b[0;34m*\u001b[0m\u001b[0margs\u001b[0m\u001b[0;34m,\u001b[0m \u001b[0;34m**\u001b[0m\u001b[0mkwargs\u001b[0m\u001b[0;34m)\u001b[0m\u001b[0;34m\u001b[0m\u001b[0;34m\u001b[0m\u001b[0m\n\u001b[0m\u001b[1;32m     67\u001b[0m         \u001b[0;32mexcept\u001b[0m \u001b[0mgrpc\u001b[0m\u001b[0;34m.\u001b[0m\u001b[0mRpcError\u001b[0m \u001b[0;32mas\u001b[0m \u001b[0mexc\u001b[0m\u001b[0;34m:\u001b[0m\u001b[0;34m\u001b[0m\u001b[0;34m\u001b[0m\u001b[0m\n\u001b[1;32m     68\u001b[0m             \u001b[0;32mraise\u001b[0m \u001b[0mexceptions\u001b[0m\u001b[0;34m.\u001b[0m\u001b[0mfrom_grpc_error\u001b[0m\u001b[0;34m(\u001b[0m\u001b[0mexc\u001b[0m\u001b[0;34m)\u001b[0m \u001b[0;32mfrom\u001b[0m \u001b[0mexc\u001b[0m\u001b[0;34m\u001b[0m\u001b[0;34m\u001b[0m\u001b[0m\n",
      "\u001b[0;32m/Library/Frameworks/Python.framework/Versions/3.9/lib/python3.9/site-packages/grpc/_channel.py\u001b[0m in \u001b[0;36m__call__\u001b[0;34m(self, request, timeout, metadata, credentials, wait_for_ready, compression)\u001b[0m\n\u001b[1;32m    942\u001b[0m                  \u001b[0mwait_for_ready\u001b[0m\u001b[0;34m=\u001b[0m\u001b[0;32mNone\u001b[0m\u001b[0;34m,\u001b[0m\u001b[0;34m\u001b[0m\u001b[0;34m\u001b[0m\u001b[0m\n\u001b[1;32m    943\u001b[0m                  compression=None):\n\u001b[0;32m--> 944\u001b[0;31m         state, call, = self._blocking(request, timeout, metadata, credentials,\n\u001b[0m\u001b[1;32m    945\u001b[0m                                       wait_for_ready, compression)\n\u001b[1;32m    946\u001b[0m         \u001b[0;32mreturn\u001b[0m \u001b[0m_end_unary_response_blocking\u001b[0m\u001b[0;34m(\u001b[0m\u001b[0mstate\u001b[0m\u001b[0;34m,\u001b[0m \u001b[0mcall\u001b[0m\u001b[0;34m,\u001b[0m \u001b[0;32mFalse\u001b[0m\u001b[0;34m,\u001b[0m \u001b[0;32mNone\u001b[0m\u001b[0;34m)\u001b[0m\u001b[0;34m\u001b[0m\u001b[0;34m\u001b[0m\u001b[0m\n",
      "\u001b[0;32m/Library/Frameworks/Python.framework/Versions/3.9/lib/python3.9/site-packages/grpc/_channel.py\u001b[0m in \u001b[0;36m_blocking\u001b[0;34m(self, request, timeout, metadata, credentials, wait_for_ready, compression)\u001b[0m\n\u001b[1;32m    931\u001b[0m                     \u001b[0;32mNone\u001b[0m\u001b[0;34m,\u001b[0m\u001b[0;34m\u001b[0m\u001b[0;34m\u001b[0m\u001b[0m\n\u001b[1;32m    932\u001b[0m                 ),), self._context)\n\u001b[0;32m--> 933\u001b[0;31m             \u001b[0mevent\u001b[0m \u001b[0;34m=\u001b[0m \u001b[0mcall\u001b[0m\u001b[0;34m.\u001b[0m\u001b[0mnext_event\u001b[0m\u001b[0;34m(\u001b[0m\u001b[0;34m)\u001b[0m\u001b[0;34m\u001b[0m\u001b[0;34m\u001b[0m\u001b[0m\n\u001b[0m\u001b[1;32m    934\u001b[0m             \u001b[0m_handle_event\u001b[0m\u001b[0;34m(\u001b[0m\u001b[0mevent\u001b[0m\u001b[0;34m,\u001b[0m \u001b[0mstate\u001b[0m\u001b[0;34m,\u001b[0m \u001b[0mself\u001b[0m\u001b[0;34m.\u001b[0m\u001b[0m_response_deserializer\u001b[0m\u001b[0;34m)\u001b[0m\u001b[0;34m\u001b[0m\u001b[0;34m\u001b[0m\u001b[0m\n\u001b[1;32m    935\u001b[0m             \u001b[0;32mreturn\u001b[0m \u001b[0mstate\u001b[0m\u001b[0;34m,\u001b[0m \u001b[0mcall\u001b[0m\u001b[0;34m\u001b[0m\u001b[0;34m\u001b[0m\u001b[0m\n",
      "\u001b[0;32msrc/python/grpcio/grpc/_cython/_cygrpc/channel.pyx.pxi\u001b[0m in \u001b[0;36mgrpc._cython.cygrpc.SegregatedCall.next_event\u001b[0;34m()\u001b[0m\n",
      "\u001b[0;32msrc/python/grpcio/grpc/_cython/_cygrpc/channel.pyx.pxi\u001b[0m in \u001b[0;36mgrpc._cython.cygrpc._next_call_event\u001b[0;34m()\u001b[0m\n",
      "\u001b[0;32msrc/python/grpcio/grpc/_cython/_cygrpc/channel.pyx.pxi\u001b[0m in \u001b[0;36mgrpc._cython.cygrpc._next_call_event\u001b[0;34m()\u001b[0m\n",
      "\u001b[0;32msrc/python/grpcio/grpc/_cython/_cygrpc/metadata.pyx.pxi\u001b[0m in \u001b[0;36mgrpc._cython.cygrpc._metadatum\u001b[0;34m()\u001b[0m\n",
      "\u001b[0;32msrc/python/grpcio/grpc/_cython/_cygrpc/completion_queue.pyx.pxi\u001b[0m in \u001b[0;36mgrpc._cython.cygrpc._interpret_event\u001b[0;34m()\u001b[0m\n",
      "\u001b[0;32msrc/python/grpcio/grpc/_cython/_cygrpc/tag.pyx.pxi\u001b[0m in \u001b[0;36mgrpc._cython.cygrpc._BatchOperationTag.event\u001b[0;34m()\u001b[0m\n",
      "\u001b[0;32msrc/python/grpcio/grpc/_cython/_cygrpc/operation.pyx.pxi\u001b[0m in \u001b[0;36mgrpc._cython.cygrpc.ReceiveInitialMetadataOperation.un_c\u001b[0;34m()\u001b[0m\n",
      "\u001b[0;32msrc/python/grpcio/grpc/_cython/_cygrpc/metadata.pyx.pxi\u001b[0m in \u001b[0;36mgrpc._cython.cygrpc._metadata\u001b[0;34m()\u001b[0m\n",
      "\u001b[0;32msrc/python/grpcio/grpc/_cython/_cygrpc/metadata.pyx.pxi\u001b[0m in \u001b[0;36mgenexpr\u001b[0;34m()\u001b[0m\n",
      "\u001b[0;32msrc/python/grpcio/grpc/_cython/_cygrpc/metadata.pyx.pxi\u001b[0m in \u001b[0;36mgrpc._cython.cygrpc._metadatum\u001b[0;34m()\u001b[0m\n",
      "\u001b[0;32m<string>\u001b[0m in \u001b[0;36m<lambda>\u001b[0;34m(_cls, key, value)\u001b[0m\n",
      "\u001b[0;31mKeyboardInterrupt\u001b[0m: "
     ]
    }
   ],
   "source": [
    "biden.analyze_tweets(hour_count=40)"
   ]
  },
  {
   "cell_type": "markdown",
   "metadata": {},
   "source": [
    "Ran for 10 min and got 3761 tweets.....add optional argument for run time?"
   ]
  },
  {
   "cell_type": "markdown",
   "metadata": {},
   "source": [
    "## Try with new max time feature:"
   ]
  },
  {
   "cell_type": "code",
   "execution_count": 3,
   "metadata": {},
   "outputs": [
    {
     "name": "stdout",
     "output_type": "stream",
     "text": [
      "Google api client connection established...\n",
      "\n",
      "Query for twitter api: https://api.twitter.com/2/tweets/search/recent?query=Joe%20Biden%20lang%3Aen%20-is%3Aretweet%20-is%3Areply\n",
      "\n",
      "Analyzing....\n",
      "\n",
      "Tweets processed: 100\n",
      "Tweets processed: 199\n",
      "Tweets processed: 298\n",
      "Tweets processed: 397\n",
      "Tweets processed: 496\n",
      "Tweets processed: 595\n",
      "Tweets processed: 694\n",
      "Tweets processed: 793\n",
      "Max time exceeded\n",
      "Analysis complete.\n",
      "\n",
      "-------------------------------------\n",
      "RESULTS\n",
      "+----------------------------------------+\n",
      "|  Statistic of sentiment for Joe Biden  |\n",
      "+--------------+---------+---------------+\n",
      "|  Sentiment   |  Count  |   Percentage  |\n",
      "+--------------+---------+---------------+\n",
      "|   Positive   |    63   |     7.94%     |\n",
      "|   Negaitve   |   369   |     46.53%    |\n",
      "|   Neutral    |   361   |     45.52%    |\n",
      "+--------------+---------+---------------+\n",
      "\n",
      "Of 793 total tweets in the last 40 hours, 7.94% were positive, 46.53% were negative, 45.52% were neutral\n"
     ]
    }
   ],
   "source": [
    "biden.analyze_tweets(hour_count=40, max_time=2)"
   ]
  },
  {
   "cell_type": "markdown",
   "metadata": {},
   "source": []
  },
  {
   "cell_type": "markdown",
   "metadata": {},
   "source": [
    "## Change wrapper so you can press stop/cancel too"
   ]
  },
  {
   "cell_type": "code",
   "execution_count": 3,
   "metadata": {},
   "outputs": [
    {
     "name": "stdout",
     "output_type": "stream",
     "text": [
      "Google api client connection established...\n",
      "\n",
      "Query for twitter api: https://api.twitter.com/2/tweets/search/recent?query=Joe%20Biden%20lang%3Aen%20-is%3Aretweet%20-is%3Areply\n",
      "\n",
      "Analyzing....\n",
      "\n",
      "Tweets processed: 100\n",
      "Analysis terminated early by user\n"
     ]
    },
    {
     "ename": "ValueError",
     "evalue": "arrays must all be same length",
     "output_type": "error",
     "traceback": [
      "\u001b[0;31m---------------------------------------------------------------------------\u001b[0m",
      "\u001b[0;31mValueError\u001b[0m                                Traceback (most recent call last)",
      "\u001b[0;32m<ipython-input-3-b887d0b8eabd>\u001b[0m in \u001b[0;36m<module>\u001b[0;34m\u001b[0m\n\u001b[0;32m----> 1\u001b[0;31m \u001b[0mbiden\u001b[0m\u001b[0;34m.\u001b[0m\u001b[0manalyze_tweets\u001b[0m\u001b[0;34m(\u001b[0m\u001b[0mhour_count\u001b[0m\u001b[0;34m=\u001b[0m\u001b[0;36m40\u001b[0m\u001b[0;34m)\u001b[0m\u001b[0;34m\u001b[0m\u001b[0;34m\u001b[0m\u001b[0m\n\u001b[0m",
      "\u001b[0;32m~/Desktop/EC601/twitter_sentiment_analysis/polispec/polispec.py\u001b[0m in \u001b[0;36manalyze_tweets\u001b[0;34m(self, hour_count, max_time, display)\u001b[0m\n\u001b[1;32m    177\u001b[0m                 \u001b[0mprint\u001b[0m\u001b[0;34m(\u001b[0m\u001b[0;34m\"Analysis terminated early by user\"\u001b[0m\u001b[0;34m)\u001b[0m\u001b[0;34m\u001b[0m\u001b[0;34m\u001b[0m\u001b[0m\n\u001b[1;32m    178\u001b[0m         \u001b[0;31m#create example dataframe\u001b[0m\u001b[0;34m\u001b[0m\u001b[0;34m\u001b[0m\u001b[0;34m\u001b[0m\u001b[0m\n\u001b[0;32m--> 179\u001b[0;31m         \u001b[0mself\u001b[0m\u001b[0;34m.\u001b[0m\u001b[0m__examples\u001b[0m \u001b[0;34m=\u001b[0m \u001b[0mpd\u001b[0m\u001b[0;34m.\u001b[0m\u001b[0mDataFrame\u001b[0m\u001b[0;34m(\u001b[0m\u001b[0mdata\u001b[0m\u001b[0;34m=\u001b[0m\u001b[0mtweet_dict\u001b[0m\u001b[0;34m)\u001b[0m\u001b[0;34m\u001b[0m\u001b[0;34m\u001b[0m\u001b[0m\n\u001b[0m\u001b[1;32m    180\u001b[0m         \u001b[0mself\u001b[0m\u001b[0;34m.\u001b[0m\u001b[0m__examples\u001b[0m \u001b[0;34m=\u001b[0m \u001b[0mself\u001b[0m\u001b[0;34m.\u001b[0m\u001b[0m__examples\u001b[0m\u001b[0;34m.\u001b[0m\u001b[0mdrop_duplicates\u001b[0m\u001b[0;34m(\u001b[0m\u001b[0;34m)\u001b[0m\u001b[0;34m\u001b[0m\u001b[0;34m\u001b[0m\u001b[0m\n\u001b[1;32m    181\u001b[0m         \u001b[0mself\u001b[0m\u001b[0;34m.\u001b[0m\u001b[0m__examples\u001b[0m \u001b[0;34m=\u001b[0m \u001b[0mself\u001b[0m\u001b[0;34m.\u001b[0m\u001b[0m__examples\u001b[0m\u001b[0;34m.\u001b[0m\u001b[0msort_values\u001b[0m\u001b[0;34m(\u001b[0m\u001b[0mby\u001b[0m\u001b[0;34m=\u001b[0m\u001b[0;34m'like_count'\u001b[0m\u001b[0;34m,\u001b[0m \u001b[0mascending\u001b[0m\u001b[0;34m=\u001b[0m\u001b[0;32mFalse\u001b[0m\u001b[0;34m)\u001b[0m\u001b[0;34m.\u001b[0m\u001b[0mreset_index\u001b[0m\u001b[0;34m(\u001b[0m\u001b[0mdrop\u001b[0m\u001b[0;34m=\u001b[0m\u001b[0;32mTrue\u001b[0m\u001b[0;34m)\u001b[0m\u001b[0;34m\u001b[0m\u001b[0;34m\u001b[0m\u001b[0m\n",
      "\u001b[0;32m/Library/Frameworks/Python.framework/Versions/3.9/lib/python3.9/site-packages/pandas/core/frame.py\u001b[0m in \u001b[0;36m__init__\u001b[0;34m(self, data, index, columns, dtype, copy)\u001b[0m\n\u001b[1;32m    527\u001b[0m \u001b[0;34m\u001b[0m\u001b[0m\n\u001b[1;32m    528\u001b[0m         \u001b[0;32melif\u001b[0m \u001b[0misinstance\u001b[0m\u001b[0;34m(\u001b[0m\u001b[0mdata\u001b[0m\u001b[0;34m,\u001b[0m \u001b[0mdict\u001b[0m\u001b[0;34m)\u001b[0m\u001b[0;34m:\u001b[0m\u001b[0;34m\u001b[0m\u001b[0;34m\u001b[0m\u001b[0m\n\u001b[0;32m--> 529\u001b[0;31m             \u001b[0mmgr\u001b[0m \u001b[0;34m=\u001b[0m \u001b[0minit_dict\u001b[0m\u001b[0;34m(\u001b[0m\u001b[0mdata\u001b[0m\u001b[0;34m,\u001b[0m \u001b[0mindex\u001b[0m\u001b[0;34m,\u001b[0m \u001b[0mcolumns\u001b[0m\u001b[0;34m,\u001b[0m \u001b[0mdtype\u001b[0m\u001b[0;34m=\u001b[0m\u001b[0mdtype\u001b[0m\u001b[0;34m)\u001b[0m\u001b[0;34m\u001b[0m\u001b[0;34m\u001b[0m\u001b[0m\n\u001b[0m\u001b[1;32m    530\u001b[0m         \u001b[0;32melif\u001b[0m \u001b[0misinstance\u001b[0m\u001b[0;34m(\u001b[0m\u001b[0mdata\u001b[0m\u001b[0;34m,\u001b[0m \u001b[0mma\u001b[0m\u001b[0;34m.\u001b[0m\u001b[0mMaskedArray\u001b[0m\u001b[0;34m)\u001b[0m\u001b[0;34m:\u001b[0m\u001b[0;34m\u001b[0m\u001b[0;34m\u001b[0m\u001b[0m\n\u001b[1;32m    531\u001b[0m             \u001b[0;32mimport\u001b[0m \u001b[0mnumpy\u001b[0m\u001b[0;34m.\u001b[0m\u001b[0mma\u001b[0m\u001b[0;34m.\u001b[0m\u001b[0mmrecords\u001b[0m \u001b[0;32mas\u001b[0m \u001b[0mmrecords\u001b[0m\u001b[0;34m\u001b[0m\u001b[0;34m\u001b[0m\u001b[0m\n",
      "\u001b[0;32m/Library/Frameworks/Python.framework/Versions/3.9/lib/python3.9/site-packages/pandas/core/internals/construction.py\u001b[0m in \u001b[0;36minit_dict\u001b[0;34m(data, index, columns, dtype)\u001b[0m\n\u001b[1;32m    285\u001b[0m             \u001b[0marr\u001b[0m \u001b[0;32mif\u001b[0m \u001b[0;32mnot\u001b[0m \u001b[0mis_datetime64tz_dtype\u001b[0m\u001b[0;34m(\u001b[0m\u001b[0marr\u001b[0m\u001b[0;34m)\u001b[0m \u001b[0;32melse\u001b[0m \u001b[0marr\u001b[0m\u001b[0;34m.\u001b[0m\u001b[0mcopy\u001b[0m\u001b[0;34m(\u001b[0m\u001b[0;34m)\u001b[0m \u001b[0;32mfor\u001b[0m \u001b[0marr\u001b[0m \u001b[0;32min\u001b[0m \u001b[0marrays\u001b[0m\u001b[0;34m\u001b[0m\u001b[0;34m\u001b[0m\u001b[0m\n\u001b[1;32m    286\u001b[0m         ]\n\u001b[0;32m--> 287\u001b[0;31m     \u001b[0;32mreturn\u001b[0m \u001b[0marrays_to_mgr\u001b[0m\u001b[0;34m(\u001b[0m\u001b[0marrays\u001b[0m\u001b[0;34m,\u001b[0m \u001b[0mdata_names\u001b[0m\u001b[0;34m,\u001b[0m \u001b[0mindex\u001b[0m\u001b[0;34m,\u001b[0m \u001b[0mcolumns\u001b[0m\u001b[0;34m,\u001b[0m \u001b[0mdtype\u001b[0m\u001b[0;34m=\u001b[0m\u001b[0mdtype\u001b[0m\u001b[0;34m)\u001b[0m\u001b[0;34m\u001b[0m\u001b[0;34m\u001b[0m\u001b[0m\n\u001b[0m\u001b[1;32m    288\u001b[0m \u001b[0;34m\u001b[0m\u001b[0m\n\u001b[1;32m    289\u001b[0m \u001b[0;34m\u001b[0m\u001b[0m\n",
      "\u001b[0;32m/Library/Frameworks/Python.framework/Versions/3.9/lib/python3.9/site-packages/pandas/core/internals/construction.py\u001b[0m in \u001b[0;36marrays_to_mgr\u001b[0;34m(arrays, arr_names, index, columns, dtype, verify_integrity)\u001b[0m\n\u001b[1;32m     78\u001b[0m         \u001b[0;31m# figure out the index, if necessary\u001b[0m\u001b[0;34m\u001b[0m\u001b[0;34m\u001b[0m\u001b[0;34m\u001b[0m\u001b[0m\n\u001b[1;32m     79\u001b[0m         \u001b[0;32mif\u001b[0m \u001b[0mindex\u001b[0m \u001b[0;32mis\u001b[0m \u001b[0;32mNone\u001b[0m\u001b[0;34m:\u001b[0m\u001b[0;34m\u001b[0m\u001b[0;34m\u001b[0m\u001b[0m\n\u001b[0;32m---> 80\u001b[0;31m             \u001b[0mindex\u001b[0m \u001b[0;34m=\u001b[0m \u001b[0mextract_index\u001b[0m\u001b[0;34m(\u001b[0m\u001b[0marrays\u001b[0m\u001b[0;34m)\u001b[0m\u001b[0;34m\u001b[0m\u001b[0;34m\u001b[0m\u001b[0m\n\u001b[0m\u001b[1;32m     81\u001b[0m         \u001b[0;32melse\u001b[0m\u001b[0;34m:\u001b[0m\u001b[0;34m\u001b[0m\u001b[0;34m\u001b[0m\u001b[0m\n\u001b[1;32m     82\u001b[0m             \u001b[0mindex\u001b[0m \u001b[0;34m=\u001b[0m \u001b[0mensure_index\u001b[0m\u001b[0;34m(\u001b[0m\u001b[0mindex\u001b[0m\u001b[0;34m)\u001b[0m\u001b[0;34m\u001b[0m\u001b[0;34m\u001b[0m\u001b[0m\n",
      "\u001b[0;32m/Library/Frameworks/Python.framework/Versions/3.9/lib/python3.9/site-packages/pandas/core/internals/construction.py\u001b[0m in \u001b[0;36mextract_index\u001b[0;34m(data)\u001b[0m\n\u001b[1;32m    399\u001b[0m             \u001b[0mlengths\u001b[0m \u001b[0;34m=\u001b[0m \u001b[0mlist\u001b[0m\u001b[0;34m(\u001b[0m\u001b[0mset\u001b[0m\u001b[0;34m(\u001b[0m\u001b[0mraw_lengths\u001b[0m\u001b[0;34m)\u001b[0m\u001b[0;34m)\u001b[0m\u001b[0;34m\u001b[0m\u001b[0;34m\u001b[0m\u001b[0m\n\u001b[1;32m    400\u001b[0m             \u001b[0;32mif\u001b[0m \u001b[0mlen\u001b[0m\u001b[0;34m(\u001b[0m\u001b[0mlengths\u001b[0m\u001b[0;34m)\u001b[0m \u001b[0;34m>\u001b[0m \u001b[0;36m1\u001b[0m\u001b[0;34m:\u001b[0m\u001b[0;34m\u001b[0m\u001b[0;34m\u001b[0m\u001b[0m\n\u001b[0;32m--> 401\u001b[0;31m                 \u001b[0;32mraise\u001b[0m \u001b[0mValueError\u001b[0m\u001b[0;34m(\u001b[0m\u001b[0;34m\"arrays must all be same length\"\u001b[0m\u001b[0;34m)\u001b[0m\u001b[0;34m\u001b[0m\u001b[0;34m\u001b[0m\u001b[0m\n\u001b[0m\u001b[1;32m    402\u001b[0m \u001b[0;34m\u001b[0m\u001b[0m\n\u001b[1;32m    403\u001b[0m             \u001b[0;32mif\u001b[0m \u001b[0mhave_dicts\u001b[0m\u001b[0;34m:\u001b[0m\u001b[0;34m\u001b[0m\u001b[0;34m\u001b[0m\u001b[0m\n",
      "\u001b[0;31mValueError\u001b[0m: arrays must all be same length"
     ]
    }
   ],
   "source": [
    "biden.analyze_tweets(hour_count=40)"
   ]
  },
  {
   "cell_type": "markdown",
   "metadata": {},
   "source": [
    "## Query that gives no results"
   ]
  },
  {
   "cell_type": "markdown",
   "metadata": {},
   "source": [
    "### What does twitter return with random query?"
   ]
  },
  {
   "cell_type": "code",
   "execution_count": 14,
   "metadata": {},
   "outputs": [
    {
     "name": "stdout",
     "output_type": "stream",
     "text": [
      "Query for twitter api: https://api.twitter.com/2/tweets/search/recent?query=Kamala%20Harris%20lang%3Aen%20-is%3Aretweet%20-is%3Areply\n",
      "17\n",
      "[\n",
      "    {\n",
      "        \"created_at\": \"2021-10-28T01:17:24.000Z\",\n",
      "        \"id\": \"1453531310870302720\",\n",
      "        \"public_metrics\": {\n",
      "            \"like_count\": 2,\n",
      "            \"quote_count\": 0,\n",
      "            \"reply_count\": 0,\n",
      "            \"retweet_count\": 0\n",
      "        },\n",
      "        \"text\": \"I am not going to respond to vile trolls. Kamala Harris would not approve of the kind of language some use here. I know she wouldn't. \\n\\nThis is the biggest problem I have with some in political groups on here. I don't subscribe to any.\"\n",
      "    },\n",
      "    {\n",
      "        \"created_at\": \"2021-10-28T01:16:32.000Z\",\n",
      "        \"id\": \"1453531094377172995\",\n",
      "        \"public_metrics\": {\n",
      "            \"like_count\": 6,\n",
      "            \"quote_count\": 0,\n",
      "            \"reply_count\": 0,\n",
      "            \"retweet_count\": 5\n",
      "        },\n",
      "        \"text\": \"Jack Posobiec \\u2014 \\u2018Multiple sources confirm Jill Biden has asked about using 25th Amendment to get rid of Kamala Harris\\u2019\\u2026\\nhttps://t.co/zfaSlx2766\"\n",
      "    },\n",
      "    {\n",
      "        \"created_at\": \"2021-10-28T01:14:59.000Z\",\n",
      "        \"id\": \"1453530704277553158\",\n",
      "        \"public_metrics\": {\n",
      "            \"like_count\": 0,\n",
      "            \"quote_count\": 0,\n",
      "            \"reply_count\": 0,\n",
      "            \"retweet_count\": 0\n",
      "        },\n",
      "        \"text\": \"\\u274c\\\"THERE ARE 2 ADMINISTRATIONS IN THE WHITE HOUSE\\\"- JILL BIDEN\\u274c\\n\\u274c&amp; ASKED ABOUT USING 25th AMENDMENT TO GET RID OF KAMALA HARRIS\\u274c \\n\\u274cAND I THOUGHT THERE'S NO ADMINISTRATION IN THE WH\\nLOL \\u274c https://t.co/grrkAcVtiR\"\n",
      "    },\n",
      "    {\n",
      "        \"created_at\": \"2021-10-28T01:13:51.000Z\",\n",
      "        \"id\": \"1453530419182198784\",\n",
      "        \"public_metrics\": {\n",
      "            \"like_count\": 3,\n",
      "            \"quote_count\": 0,\n",
      "            \"reply_count\": 0,\n",
      "            \"retweet_count\": 0\n",
      "        },\n",
      "        \"text\": \"Forget it. I will not reply to racists, even those who claim to support Kamala Harris. Disgusting.\"\n",
      "    },\n",
      "    {\n",
      "        \"created_at\": \"2021-10-28T01:11:52.000Z\",\n",
      "        \"id\": \"1453529919586177039\",\n",
      "        \"public_metrics\": {\n",
      "            \"like_count\": 0,\n",
      "            \"quote_count\": 0,\n",
      "            \"reply_count\": 0,\n",
      "            \"retweet_count\": 0\n",
      "        },\n",
      "        \"text\": \"I love Kamala Harris, and I'd vote for her again on Dem ticket. I think she's doing great on all her tough assignments! Was just making a VP joke in response to someone who asked the Where's Walda question? https://t.co/fPeMHGO5D5\"\n",
      "    },\n",
      "    {\n",
      "        \"created_at\": \"2021-10-28T01:08:30.000Z\",\n",
      "        \"id\": \"1453529069589565440\",\n",
      "        \"public_metrics\": {\n",
      "            \"like_count\": 1,\n",
      "            \"quote_count\": 0,\n",
      "            \"reply_count\": 1,\n",
      "            \"retweet_count\": 0\n",
      "        },\n",
      "        \"text\": \"Joe Biden &amp; Kamala Harris Sent Out 2 Tweets With The Words: \\\"MIDDLE CLASS\\\"\\n\\nMY IGNITE-THE-MIDDLE-CLASS\\u2122 ECONOMICS HAS BEEN READY FOR 2 YEARS! \\n\\nIT COMBINES THE BEST OF GOVERNMENT &amp; THE BEST OF THE PRIVATE SECTOR.\\n\\n(Fly-On-The-Wall: \\\"ACA screwed the Middle Class &amp; Businesses!\\\")\"\n",
      "    },\n",
      "    {\n",
      "        \"created_at\": \"2021-10-28T01:08:20.000Z\",\n",
      "        \"id\": \"1453529030704177153\",\n",
      "        \"public_metrics\": {\n",
      "            \"like_count\": 0,\n",
      "            \"quote_count\": 0,\n",
      "            \"reply_count\": 0,\n",
      "            \"retweet_count\": 0\n",
      "        },\n",
      "        \"text\": \"Well of course!  The blood pact he signed with the devil requires him to be in his home every weekend. If he fails to do so, Babayaga (Kamala Harris) will take his place at the head of his evil crime syndicate. https://t.co/8anbMdCfE0\"\n",
      "    },\n",
      "    {\n",
      "        \"created_at\": \"2021-10-28T01:08:06.000Z\",\n",
      "        \"id\": \"1453528968733212675\",\n",
      "        \"public_metrics\": {\n",
      "            \"like_count\": 0,\n",
      "            \"quote_count\": 0,\n",
      "            \"reply_count\": 0,\n",
      "            \"retweet_count\": 0\n",
      "        },\n",
      "        \"text\": \"Black colleges were denied state funding for decades. Now they're fighting back. https://t.co/9sPNDOm3Tt via @cbsmoneywatch\"\n",
      "    },\n",
      "    {\n",
      "        \"created_at\": \"2021-10-28T01:07:49.000Z\",\n",
      "        \"id\": \"1453528900861153283\",\n",
      "        \"public_metrics\": {\n",
      "            \"like_count\": 1,\n",
      "            \"quote_count\": 0,\n",
      "            \"reply_count\": 0,\n",
      "            \"retweet_count\": 0\n",
      "        },\n",
      "        \"text\": \"I love Kamala Harris, and I'd vote for her again on Dem ticket. I think she's doing great on all her tough assignments! Was just making a VP joke in response to someone who asked the Where's Walda question? https://t.co/79tXQ4rmo3\"\n",
      "    },\n",
      "    {\n",
      "        \"created_at\": \"2021-10-28T01:04:56.000Z\",\n",
      "        \"id\": \"1453528174403461123\",\n",
      "        \"public_metrics\": {\n",
      "            \"like_count\": 0,\n",
      "            \"quote_count\": 0,\n",
      "            \"reply_count\": 0,\n",
      "            \"retweet_count\": 1\n",
      "        },\n",
      "        \"text\": \"With less than a week to go before Election Day, \\u201cThe Countdown\\u201d is breaking down the final New York City mayoral debate and the latest poll for the New Jersey governor's race.\\nhttps://t.co/kH973uqgia\"\n",
      "    },\n",
      "    {\n",
      "        \"created_at\": \"2021-10-28T00:59:56.000Z\",\n",
      "        \"id\": \"1453526913436176389\",\n",
      "        \"public_metrics\": {\n",
      "            \"like_count\": 1,\n",
      "            \"quote_count\": 0,\n",
      "            \"reply_count\": 0,\n",
      "            \"retweet_count\": 0\n",
      "        },\n",
      "        \"text\": \"I will never forgive Nina Simone\\u2019s messy ass granddaughter for hopping on Al Gore\\u2019s internet, and lying about Kamala Harris. The way we collectively packed her up and sent her on her way. \\ud83d\\ude02\"\n",
      "    },\n",
      "    {\n",
      "        \"created_at\": \"2021-10-28T00:55:12.000Z\",\n",
      "        \"id\": \"1453525724787318787\",\n",
      "        \"public_metrics\": {\n",
      "            \"like_count\": 0,\n",
      "            \"quote_count\": 0,\n",
      "            \"reply_count\": 0,\n",
      "            \"retweet_count\": 0\n",
      "        },\n",
      "        \"text\": \"Where did Joe Biden and Kamala Harris get their ideas from?\\n\\nTheir Socialist/Communist friends!\\n\\nWho Are Joe Biden  https://t.co/QQ2whOe6zX https://t.co/rNek9rp7Zk\"\n",
      "    },\n",
      "    {\n",
      "        \"created_at\": \"2021-10-28T00:54:37.000Z\",\n",
      "        \"id\": \"1453525577995063298\",\n",
      "        \"public_metrics\": {\n",
      "            \"like_count\": 0,\n",
      "            \"quote_count\": 0,\n",
      "            \"reply_count\": 0,\n",
      "            \"retweet_count\": 0\n",
      "        },\n",
      "        \"text\": \"\\u201cWe\\u2019re Going to Lose\\u201d the Border Wars, says DHS Chief Alejandro Mayorkas; Border Czarina Kamala Harris is AWOL - AMAC - The Association of Mature American Citizens https://t.co/NN8rIzJknR\"\n",
      "    },\n",
      "    {\n",
      "        \"created_at\": \"2021-10-28T00:54:34.000Z\",\n",
      "        \"id\": \"1453525564459913218\",\n",
      "        \"public_metrics\": {\n",
      "            \"like_count\": 0,\n",
      "            \"quote_count\": 0,\n",
      "            \"reply_count\": 0,\n",
      "            \"retweet_count\": 0\n",
      "        },\n",
      "        \"text\": \"There are now two administrations inside the White House\\u2026\\ud83e\\udd2b https://t.co/r2DIVVx4uV\"\n",
      "    },\n",
      "    {\n",
      "        \"created_at\": \"2021-10-28T00:53:27.000Z\",\n",
      "        \"id\": \"1453525284834066433\",\n",
      "        \"public_metrics\": {\n",
      "            \"like_count\": 0,\n",
      "            \"quote_count\": 0,\n",
      "            \"reply_count\": 0,\n",
      "            \"retweet_count\": 0\n",
      "        },\n",
      "        \"text\": \"\\u201cWe\\u2019re Going to Lose\\u201d the Border Wars, says DHS Chief Alejandro Mayorkas; Border Czarina Kamala Harris is AWOL - AMAC - The Association of Mature American Citizens https://t.co/laPRautquq\"\n",
      "    },\n",
      "    {\n",
      "        \"created_at\": \"2021-10-28T00:52:57.000Z\",\n",
      "        \"id\": \"1453525157339877377\",\n",
      "        \"public_metrics\": {\n",
      "            \"like_count\": 0,\n",
      "            \"quote_count\": 0,\n",
      "            \"reply_count\": 0,\n",
      "            \"retweet_count\": 0\n",
      "        },\n",
      "        \"text\": \"Trying to contact will Smith it's apparently 100 stories of who beat up my 12 year old and left him to die in a chair his name was Jerome McIntyre the 4th . Now they claimed it was las Vegas mafia . @POTUS44 @VP to Kamala Harris\"\n",
      "    },\n",
      "    {\n",
      "        \"created_at\": \"2021-10-28T00:47:45.000Z\",\n",
      "        \"id\": \"1453523848364711937\",\n",
      "        \"public_metrics\": {\n",
      "            \"like_count\": 1,\n",
      "            \"quote_count\": 0,\n",
      "            \"reply_count\": 0,\n",
      "            \"retweet_count\": 0\n",
      "        },\n",
      "        \"text\": \"Everytime I see Kamala harris, Anthony Fraudci and Jihad Joe Biden it makes it so clear to me  how ignorant and easily swayed some Americans are.\"\n",
      "    }\n",
      "]\n"
     ]
    }
   ],
   "source": [
    "headers = twitter.create_headers()\n",
    "url = twitter.create_url('Kamala Harris')\n",
    "end_time, start_time = twitter.get_dates(0.5)\n",
    "parameters = twitter.create_params(max_results=100, start_time=start_time, end_time=end_time)\n",
    "print(\"Query for twitter api: {}\".format(url))\n",
    "\n",
    "tweet_batch = twitter.connect_to_endpoint_twitter(url, headers, parameters, next_token={})\n",
    "\n",
    "print(tweet_batch['meta']['result_count'])\n",
    "twitter.print_tweet_dump(tweet_batch)"
   ]
  },
  {
   "cell_type": "code",
   "execution_count": 2,
   "metadata": {},
   "outputs": [
    {
     "name": "stdout",
     "output_type": "stream",
     "text": [
      "Ian Chadwick, tweets: 0, positive:0, negative: 0, neutral: 0\n"
     ]
    }
   ],
   "source": [
    "random1 = Politician('Ian Chadwick')\n",
    "print(random2)"
   ]
  },
  {
   "cell_type": "code",
   "execution_count": 3,
   "metadata": {},
   "outputs": [
    {
     "name": "stdout",
     "output_type": "stream",
     "text": [
      "Google api client connection established...\n",
      "\n",
      "Query for twitter api: https://api.twitter.com/2/tweets/search/recent?query=Ian%20Chadwick%20lang%3Aen%20-is%3Aretweet%20-is%3Areply\n",
      "\n",
      "Analyzing....\n",
      "\n",
      "Query returned no results!\n"
     ]
    }
   ],
   "source": [
    "random.analyze_tweets(hour_count=1)"
   ]
  },
  {
   "cell_type": "markdown",
   "metadata": {},
   "source": [
    "## Query with random person (that does give results)"
   ]
  },
  {
   "cell_type": "code",
   "execution_count": 4,
   "metadata": {},
   "outputs": [
    {
     "name": "stdout",
     "output_type": "stream",
     "text": [
      "Olivia Rodrigo, tweets: 0, positive:0, negative: 0, neutral: 0\n"
     ]
    }
   ],
   "source": [
    "random2 = Politician('Olivia Rodrigo')\n",
    "print(random2)"
   ]
  },
  {
   "cell_type": "code",
   "execution_count": 5,
   "metadata": {},
   "outputs": [
    {
     "name": "stdout",
     "output_type": "stream",
     "text": [
      "Google api client connection established...\n",
      "\n",
      "Query for twitter api: https://api.twitter.com/2/tweets/search/recent?query=Olivia%20Rodrigo%20lang%3Aen%20-is%3Aretweet%20-is%3Areply\n",
      "\n",
      "Analyzing....\n",
      "\n",
      "Tweets processed: 23\n",
      "\n",
      "Analysis complete.\n",
      "\n",
      "-------------------------------------\n",
      "RESULTS\n",
      "+--------------------------------------------+\n",
      "| Statistic of sentiment for Olivia Rodrigo  |\n",
      "+---------------+----------+-----------------+\n",
      "|   Sentiment   |  Count   |    Percentage   |\n",
      "+---------------+----------+-----------------+\n",
      "|    Positive   |    9     |      39.13%     |\n",
      "|    Negaitve   |    3     |      13.04%     |\n",
      "|    Neutral    |    11    |      47.83%     |\n",
      "+---------------+----------+-----------------+\n",
      "\n",
      "Of 23 total tweets in the last 0.5 hours, 39.13% were positive, 13.04% were negative, 47.83% were neutral\n"
     ]
    }
   ],
   "source": [
    "random2.analyze_tweets(hour_count=0.5)"
   ]
  },
  {
   "cell_type": "markdown",
   "metadata": {},
   "source": [
    "## What happens if you choose a larger example page size than the number of tweets?"
   ]
  },
  {
   "cell_type": "code",
   "execution_count": 6,
   "metadata": {},
   "outputs": [],
   "source": [
    "ex = random2.examples_all(page_size=100)"
   ]
  },
  {
   "cell_type": "code",
   "execution_count": 7,
   "metadata": {},
   "outputs": [
    {
     "data": {
      "application/vnd.jupyter.widget-view+json": {
       "model_id": "57b78ec41b7f444bbbe26fb1ca70b38a",
       "version_major": 2,
       "version_minor": 0
      },
      "text/plain": [
       "HTML(value='<b>Example  Tweets</b>')"
      ]
     },
     "metadata": {},
     "output_type": "display_data"
    },
    {
     "data": {
      "application/vnd.jupyter.widget-view+json": {
       "model_id": "1aee7f0c6e104aeeacfe11ff261dd7c5",
       "version_major": 2,
       "version_minor": 0
      },
      "text/plain": [
       "VBox(children=(HTML(value=\" <i>'Some of the upcoming year-end Hot Sheet updates:\\n\\nJustin Bieber\\nAriana Gran…"
      ]
     },
     "metadata": {},
     "output_type": "display_data"
    },
    {
     "data": {
      "application/vnd.jupyter.widget-view+json": {
       "model_id": "eba9541989044e71a0227401a82c0f19",
       "version_major": 2,
       "version_minor": 0
      },
      "text/plain": [
       "VBox(children=(HTML(value=\" <i>'Olivia Rodrigo interview starts at 7pm PST  '</i><br>\"), HBox(children=(HTML(v…"
      ]
     },
     "metadata": {},
     "output_type": "display_data"
    },
    {
     "data": {
      "application/vnd.jupyter.widget-view+json": {
       "model_id": "04fc2370f9e24f31b2010dc9e2b0c9d5",
       "version_major": 2,
       "version_minor": 0
      },
      "text/plain": [
       "VBox(children=(HTML(value=\" <i>'I dreamt I was a mix of myself and Olivia Rodrigo and I was going viral so whe…"
      ]
     },
     "metadata": {},
     "output_type": "display_data"
    },
    {
     "data": {
      "application/vnd.jupyter.widget-view+json": {
       "model_id": "96b4192c957b4da98dd745dfaceeda62",
       "version_major": 2,
       "version_minor": 0
      },
      "text/plain": [
       "VBox(children=(HTML(value=\" <i>'Photos of Olivia Rodrigo on Jimmy Kimmel Live ❤️❤️❤️ '</i><br>\"), HBox(childre…"
      ]
     },
     "metadata": {},
     "output_type": "display_data"
    },
    {
     "data": {
      "application/vnd.jupyter.widget-view+json": {
       "model_id": "81e77779f0894627806cdddddb77bb30",
       "version_major": 2,
       "version_minor": 0
      },
      "text/plain": [
       "VBox(children=(HTML(value=\" <i>'hey Siri play Traitor by Olivia Rodrigo'</i><br>\"), HBox(children=(HTML(value=…"
      ]
     },
     "metadata": {},
     "output_type": "display_data"
    },
    {
     "data": {
      "application/vnd.jupyter.widget-view+json": {
       "model_id": "a5ca0a5a1795463e8a1eebe85babf411",
       "version_major": 2,
       "version_minor": 0
      },
      "text/plain": [
       "VBox(children=(HTML(value=\" <i>'olivia rodrigo hittin different rn idk'</i><br>\"), HBox(children=(HTML(value='…"
      ]
     },
     "metadata": {},
     "output_type": "display_data"
    },
    {
     "data": {
      "application/vnd.jupyter.widget-view+json": {
       "model_id": "5287502840bd4d8e907985dba53ec1a9",
       "version_major": 2,
       "version_minor": 0
      },
      "text/plain": [
       "VBox(children=(HTML(value=\" <i>'Olivia Rodrigo is having a sweet year as the leading nominee at the American M…"
      ]
     },
     "metadata": {},
     "output_type": "display_data"
    },
    {
     "data": {
      "application/vnd.jupyter.widget-view+json": {
       "model_id": "1ae18d7b89fb4bc081bfa0b4d2009c5e",
       "version_major": 2,
       "version_minor": 0
      },
      "text/plain": [
       "VBox(children=(HTML(value=' <i>\\'Thanks to #OneOfUsIsLying(different from the book but captures the spirit and…"
      ]
     },
     "metadata": {},
     "output_type": "display_data"
    },
    {
     "data": {
      "application/vnd.jupyter.widget-view+json": {
       "model_id": "841c8c8645494ee69e9964e77a68a178",
       "version_major": 2,
       "version_minor": 0
      },
      "text/plain": [
       "VBox(children=(HTML(value=\" <i>'Teen phenom Olivia Rodrigo leads American Music Award nominations '</i><br>\"),…"
      ]
     },
     "metadata": {},
     "output_type": "display_data"
    },
    {
     "data": {
      "application/vnd.jupyter.widget-view+json": {
       "model_id": "536f7d193ada4a6e948251c0de9feeab",
       "version_major": 2,
       "version_minor": 0
      },
      "text/plain": [
       "VBox(children=(HTML(value=\" <i>'taylor, maisie peters, billie eilish, olivia rodrigo and genuinely don’t know …"
      ]
     },
     "metadata": {},
     "output_type": "display_data"
    },
    {
     "data": {
      "application/vnd.jupyter.widget-view+json": {
       "model_id": "a0af2bbce07446d6a3b0502151116aac",
       "version_major": 2,
       "version_minor": 0
      },
      "text/plain": [
       "VBox(children=(HTML(value=\" <i>'Here’s my shot of Olivia Rodrigo in the Stuttgarter-Nachrichten. American Musi…"
      ]
     },
     "metadata": {},
     "output_type": "display_data"
    },
    {
     "data": {
      "application/vnd.jupyter.widget-view+json": {
       "model_id": "c2742617b8fd427eaf77bd836c8a9472",
       "version_major": 2,
       "version_minor": 0
      },
      "text/plain": [
       "VBox(children=(HTML(value=\" <i>'the only thing i have to say is the line by miss olivia rodrigo “where’s my fu…"
      ]
     },
     "metadata": {},
     "output_type": "display_data"
    },
    {
     "data": {
      "application/vnd.jupyter.widget-view+json": {
       "model_id": "a3f1e135e4d347249de1ee62a28e22bb",
       "version_major": 2,
       "version_minor": 0
      },
      "text/plain": [
       "VBox(children=(HTML(value=\" <i>'#Hitmusic playing now deja vu by @Olivia_Rodrigo #listenlive  '</i><br>\"), HBo…"
      ]
     },
     "metadata": {},
     "output_type": "display_data"
    },
    {
     "data": {
      "application/vnd.jupyter.widget-view+json": {
       "model_id": "9c2985082e534962a6392305d81ff1c8",
       "version_major": 2,
       "version_minor": 0
      },
      "text/plain": [
       "VBox(children=(HTML(value=\" <i>'lf looking for netflix premium shared netflix shared netflix murah netflix mur…"
      ]
     },
     "metadata": {},
     "output_type": "display_data"
    },
    {
     "data": {
      "application/vnd.jupyter.widget-view+json": {
       "model_id": "bfd9e9b811e944a5a4581f381e4fe658",
       "version_major": 2,
       "version_minor": 0
      },
      "text/plain": [
       "VBox(children=(HTML(value=\" <i>'Congrats to both @theweeknd &amp; @oliviarodrigo 🏆\\n\\n'</i><br>\"), HBox(childr…"
      ]
     },
     "metadata": {},
     "output_type": "display_data"
    },
    {
     "data": {
      "application/vnd.jupyter.widget-view+json": {
       "model_id": "5dc8f4b25c84452ebd01e29c6d3e9559",
       "version_major": 2,
       "version_minor": 0
      },
      "text/plain": [
       "VBox(children=(HTML(value=\" <i>'wondering if the fbi agent in my phone gets tired of listening to me scream ol…"
      ]
     },
     "metadata": {},
     "output_type": "display_data"
    },
    {
     "data": {
      "application/vnd.jupyter.widget-view+json": {
       "model_id": "156f164cf6a6483689e415738f923222",
       "version_major": 2,
       "version_minor": 0
      },
      "text/plain": [
       "VBox(children=(HTML(value=\" <i>'Olivia Rodrigo - traitor (Jimmy Kimmel Live)  via @YouTube'</i><br>\"), HBox(ch…"
      ]
     },
     "metadata": {},
     "output_type": "display_data"
    },
    {
     "data": {
      "application/vnd.jupyter.widget-view+json": {
       "model_id": "e6b5451c467b4674804a33f6e7515ba9",
       "version_major": 2,
       "version_minor": 0
      },
      "text/plain": [
       "VBox(children=(HTML(value=\" <i>'olivia rodrigo can have my heart 😭'</i><br>\"), HBox(children=(HTML(value='<b>N…"
      ]
     },
     "metadata": {},
     "output_type": "display_data"
    },
    {
     "data": {
      "application/vnd.jupyter.widget-view+json": {
       "model_id": "486671a077a746b385c9af0fb98938fc",
       "version_major": 2,
       "version_minor": 0
      },
      "text/plain": [
       "VBox(children=(HTML(value=\" <i>'Olivia Rodrigo - traitor (Jimmy Kimmel Live)  via @YouTube'</i><br>\"), HBox(ch…"
      ]
     },
     "metadata": {},
     "output_type": "display_data"
    },
    {
     "data": {
      "application/vnd.jupyter.widget-view+json": {
       "model_id": "cd46cfaaa93542daa9be26d7811d9d6a",
       "version_major": 2,
       "version_minor": 0
      },
      "text/plain": [
       "VBox(children=(HTML(value=\" <i>'Literally anything but Olivia Rodrigo '</i><br>\"), HBox(children=(HTML(value='…"
      ]
     },
     "metadata": {},
     "output_type": "display_data"
    },
    {
     "data": {
      "application/vnd.jupyter.widget-view+json": {
       "model_id": "cfb2414ae8544362952434d5729728b5",
       "version_major": 2,
       "version_minor": 0
      },
      "text/plain": [
       "VBox(children=(HTML(value=\" <i>'Olivia Rodrigo - traitor (Jimmy Kimmel Live)  via @YouTube \\nOlivia --your gra…"
      ]
     },
     "metadata": {},
     "output_type": "display_data"
    },
    {
     "data": {
      "application/vnd.jupyter.widget-view+json": {
       "model_id": "85318db144954796b186c1803a3bab2f",
       "version_major": 2,
       "version_minor": 0
      },
      "text/plain": [
       "VBox(children=(HTML(value=\" <i>'I shade drowning in FYP but You shade Olivia Rodrigo'</i><br>\"), HBox(children…"
      ]
     },
     "metadata": {},
     "output_type": "display_data"
    },
    {
     "data": {
      "application/vnd.jupyter.widget-view+json": {
       "model_id": "d24db22c9c0347dc8de9dbe4169e163e",
       "version_major": 2,
       "version_minor": 0
      },
      "text/plain": [
       "VBox(children=(HTML(value=\" <i>'i might be a dumbass but did olivia rodrigo delete sour prom off of her youtub…"
      ]
     },
     "metadata": {},
     "output_type": "display_data"
    }
   ],
   "source": [
    "ex.next()"
   ]
  },
  {
   "cell_type": "markdown",
   "metadata": {},
   "source": [
    "### Works fine with Olivia too-> make a list of politician names allowed? But then you also have a freedom tradeoff"
   ]
  }
 ],
 "metadata": {
  "interpreter": {
   "hash": "aee8b7b246df8f9039afb4144a1f6fd8d2ca17a180786b69acc140d282b71a49"
  },
  "kernelspec": {
   "display_name": "Python 3.9.2 64-bit",
   "name": "python3"
  },
  "language_info": {
   "codemirror_mode": {
    "name": "ipython",
    "version": 3
   },
   "file_extension": ".py",
   "mimetype": "text/x-python",
   "name": "python",
   "nbconvert_exporter": "python",
   "pygments_lexer": "ipython3",
   "version": "3.9.2"
  },
  "orig_nbformat": 4
 },
 "nbformat": 4,
 "nbformat_minor": 2
}

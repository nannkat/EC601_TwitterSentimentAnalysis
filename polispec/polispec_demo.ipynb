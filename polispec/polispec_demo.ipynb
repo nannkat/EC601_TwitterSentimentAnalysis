{
 "cells": [
  {
   "cell_type": "markdown",
   "metadata": {},
   "source": [
    "# Demo of polispec Library"
   ]
  },
  {
   "cell_type": "markdown",
   "metadata": {},
   "source": [
    "## Imports and Dependencies\n"
   ]
  },
  {
   "cell_type": "code",
   "execution_count": 1,
   "metadata": {},
   "outputs": [],
   "source": [
    "import polispec\n",
    "from polispec import Politician"
   ]
  },
  {
   "cell_type": "markdown",
   "metadata": {},
   "source": [
    "## Analyzing the tweet of a politician"
   ]
  },
  {
   "cell_type": "markdown",
   "metadata": {},
   "source": [
    "### Create politician object. \n",
    "Takes as input a single string with the name to analyze. Eg. 'Donald Trump'"
   ]
  },
  {
   "cell_type": "code",
   "execution_count": 2,
   "metadata": {},
   "outputs": [
    {
     "name": "stdout",
     "output_type": "stream",
     "text": [
      "Donald Trump, tweets: 0, positive:0, negative: 0, neutral: 0\n"
     ]
    }
   ],
   "source": [
    "donald = Politician('Donald Trump')\n",
    "print(donald)"
   ]
  },
  {
   "cell_type": "markdown",
   "metadata": {},
   "source": [
    "### Send query to analyze tweet\n",
    "Takes as input a single argument with number of hours into the past to search for tweets. Start with a short half hour query. By default, the display argument of analyze is set to true so statistics display at the end"
   ]
  },
  {
   "cell_type": "code",
   "execution_count": 7,
   "metadata": {},
   "outputs": [
    {
     "name": "stdout",
     "output_type": "stream",
     "text": [
      "Google api client connection established...\n",
      "\n",
      "Query for twitter api: https://api.twitter.com/2/tweets/search/recent?query=Donald%20Trump%20lang%3Aen%20-is%3Aretweet%20-is%3Areply\n",
      "\n",
      "Analyzing....\n",
      "\n",
      "Tweets processed: 100\n",
      "Tweets processed: 136\n",
      "-------------------------------------\n",
      "RESULTS\n",
      "+------------------------------------------+\n",
      "| Statistic of sentiment for Donald Trump  |\n",
      "+---------------+---------+----------------+\n",
      "|   Sentiment   |  Count  |   Percentage   |\n",
      "+---------------+---------+----------------+\n",
      "|    Positive   |    12   |     8.82%      |\n",
      "|    Negaitve   |    66   |     48.53%     |\n",
      "|    Neutral    |    58   |     42.65%     |\n",
      "+---------------+---------+----------------+\n",
      "\n",
      "Of 136 total tweets in the last 0.5 hours, 8.82% were positive, 48.53% were negative, 42.65% were neutral\n"
     ]
    }
   ],
   "source": [
    "donald.analyze_tweets(hour_count=0.5)"
   ]
  },
  {
   "cell_type": "markdown",
   "metadata": {},
   "source": [
    "## Changing the time and more settings"
   ]
  },
  {
   "cell_type": "markdown",
   "metadata": {},
   "source": [
    "### Reset and analyze\n",
    "Reset the analytics for Donald and do another query with a different time, increase to 2 hours. Set display to false this time"
   ]
  },
  {
   "cell_type": "code",
   "execution_count": 3,
   "metadata": {},
   "outputs": [
    {
     "name": "stdout",
     "output_type": "stream",
     "text": [
      "Donald Trump, tweets: 0, positive:0, negative: 0, neutral: 0\n",
      "Google api client connection established...\n",
      "\n",
      "Query for twitter api: https://api.twitter.com/2/tweets/search/recent?query=Donald%20Trump%20lang%3Aen%20-is%3Aretweet%20-is%3Areply\n",
      "\n",
      "Analyzing....\n",
      "\n",
      "Tweets processed: 100\n",
      "Tweets processed: 199\n",
      "Tweets processed: 298\n",
      "Tweets processed: 397\n",
      "Tweets processed: 496\n",
      "Tweets processed: 496\n",
      "Analysis complete.\n",
      "\n"
     ]
    }
   ],
   "source": [
    "donald.reset()\n",
    "print(donald)\n",
    "donald.analyze_tweets(hour_count=2, display=False)"
   ]
  },
  {
   "cell_type": "markdown",
   "metadata": {},
   "source": [
    "### Display with statistics function\n",
    "The same statistical display can be achieved anytime with display_statistics"
   ]
  },
  {
   "cell_type": "code",
   "execution_count": 4,
   "metadata": {},
   "outputs": [
    {
     "name": "stdout",
     "output_type": "stream",
     "text": [
      "-------------------------------------\n",
      "RESULTS\n",
      "+------------------------------------------+\n",
      "| Statistic of sentiment for Donald Trump  |\n",
      "+---------------+---------+----------------+\n",
      "|   Sentiment   |  Count  |   Percentage   |\n",
      "+---------------+---------+----------------+\n",
      "|    Positive   |    52   |     10.48%     |\n",
      "|    Negaitve   |   246   |     49.6%      |\n",
      "|    Neutral    |   269   |     54.23%     |\n",
      "+---------------+---------+----------------+\n",
      "\n",
      "Of 496 total tweets in the last 2 hours, 10.48% were positive, 49.6% were negative, 54.23% were neutral\n"
     ]
    }
   ],
   "source": [
    "donald.display_statistics()"
   ]
  },
  {
   "cell_type": "markdown",
   "metadata": {},
   "source": [
    "## Inspecting Examples"
   ]
  },
  {
   "cell_type": "markdown",
   "metadata": {},
   "source": [
    "### See mixed examples\n",
    "With examples_all() an example object is created containing selected information on all the tweets queried sorted by like count, so popular first"
   ]
  },
  {
   "cell_type": "code",
   "execution_count": 5,
   "metadata": {},
   "outputs": [],
   "source": [
    "all = donald.examples_all()"
   ]
  },
  {
   "cell_type": "markdown",
   "metadata": {},
   "source": [
    "### Use next to iteratively get examples\n",
    "Every time next is rerun a new batch of examples appears. fx by repeatedly hitting play the user can go through some tweets"
   ]
  },
  {
   "cell_type": "code",
   "execution_count": 6,
   "metadata": {},
   "outputs": [
    {
     "data": {
      "application/vnd.jupyter.widget-view+json": {
       "model_id": "36d581b57f704615a429df6c1ac2ca91",
       "version_major": 2,
       "version_minor": 0
      },
      "text/plain": [
       "HTML(value='<b>Example  Tweets</b>')"
      ]
     },
     "metadata": {},
     "output_type": "display_data"
    },
    {
     "data": {
      "application/vnd.jupyter.widget-view+json": {
       "model_id": "2aec10ee845a44d0b178c4a83ce1f05e",
       "version_major": 2,
       "version_minor": 0
      },
      "text/plain": [
       "VBox(children=(HTML(value=' <i>\\'[bedtime prayer]\\n\\n\"Dear Lord, you\\'ve taken my favorite comedian, Norm MacD…"
      ]
     },
     "metadata": {},
     "output_type": "display_data"
    },
    {
     "data": {
      "application/vnd.jupyter.widget-view+json": {
       "model_id": "3ae685e256934a13afce710bc421a07a",
       "version_major": 2,
       "version_minor": 0
      },
      "text/plain": [
       "VBox(children=(HTML(value=\" <i>'Some Jan 6 defendants are taking the opportunity to reference Donald Trump and…"
      ]
     },
     "metadata": {},
     "output_type": "display_data"
    },
    {
     "data": {
      "application/vnd.jupyter.widget-view+json": {
       "model_id": "05d9e90cbde9459b9942757dacadede2",
       "version_major": 2,
       "version_minor": 0
      },
      "text/plain": [
       "VBox(children=(HTML(value=\" <i>'President Donald J. Trump's MASSIVE rally in Iowa last night proved one thing:…"
      ]
     },
     "metadata": {},
     "output_type": "display_data"
    }
   ],
   "source": [
    "all.next()"
   ]
  },
  {
   "cell_type": "markdown",
   "metadata": {},
   "source": [
    "### See only positive/negative/neutral examples\n",
    "Also filtered by popularity but this time different sentiment types are filtered out if you want to focus on one at a time. You can also change page size to view more at a time"
   ]
  },
  {
   "cell_type": "code",
   "execution_count": 7,
   "metadata": {},
   "outputs": [],
   "source": [
    "positive = donald.examples_positive(page_size=7)"
   ]
  },
  {
   "cell_type": "code",
   "execution_count": 8,
   "metadata": {},
   "outputs": [
    {
     "data": {
      "application/vnd.jupyter.widget-view+json": {
       "model_id": "3cd4548b2acb45fc9a0ec82de82ba44d",
       "version_major": 2,
       "version_minor": 0
      },
      "text/plain": [
       "HTML(value='<b>Example Positive Tweets</b>')"
      ]
     },
     "metadata": {},
     "output_type": "display_data"
    },
    {
     "data": {
      "application/vnd.jupyter.widget-view+json": {
       "model_id": "c65f0af328f9479db242bbc5ebd6d7ff",
       "version_major": 2,
       "version_minor": 0
      },
      "text/plain": [
       "VBox(children=(HTML(value=' <i>\\'Donald Trump: \"If this is what being canceled is like, I love it\" \\'</i><br>'…"
      ]
     },
     "metadata": {},
     "output_type": "display_data"
    },
    {
     "data": {
      "application/vnd.jupyter.widget-view+json": {
       "model_id": "645a3bcab95e40d5be61b7d18495a486",
       "version_major": 2,
       "version_minor": 0
      },
      "text/plain": [
       "VBox(children=(HTML(value=\" <i>'“The truth is a force of nature” President Donald J. Trump'</i><br>\"), HBox(ch…"
      ]
     },
     "metadata": {},
     "output_type": "display_data"
    },
    {
     "data": {
      "application/vnd.jupyter.widget-view+json": {
       "model_id": "36dc1e633ca44f24bdeea1be79b7ae26",
       "version_major": 2,
       "version_minor": 0
      },
      "text/plain": [
       "VBox(children=(HTML(value=\" <i>'Happy birthday Ashli Babbitt\\nThank you for your 14 years of service to Americ…"
      ]
     },
     "metadata": {},
     "output_type": "display_data"
    },
    {
     "data": {
      "application/vnd.jupyter.widget-view+json": {
       "model_id": "7d173c2af0ab4e53a871b93eef176cfe",
       "version_major": 2,
       "version_minor": 0
      },
      "text/plain": [
       "VBox(children=(HTML(value=\" <i>'Greatest President, President Donald Trump 👏  '</i><br>\"), HBox(children=(HTML…"
      ]
     },
     "metadata": {},
     "output_type": "display_data"
    },
    {
     "data": {
      "application/vnd.jupyter.widget-view+json": {
       "model_id": "26f2e502e5ea4471a5e742d1aa3ef082",
       "version_major": 2,
       "version_minor": 0
      },
      "text/plain": [
       "VBox(children=(HTML(value=\" <i>'I would support Donald Trump Ron DeSantis is extremely powerful as the governo…"
      ]
     },
     "metadata": {},
     "output_type": "display_data"
    },
    {
     "data": {
      "application/vnd.jupyter.widget-view+json": {
       "model_id": "874b486103524a139bc150a651759f62",
       "version_major": 2,
       "version_minor": 0
      },
      "text/plain": [
       "VBox(children=(HTML(value=\" <i>'Greatest President America has ever had. President Donald Trump. '</i><br>\"), …"
      ]
     },
     "metadata": {},
     "output_type": "display_data"
    },
    {
     "data": {
      "application/vnd.jupyter.widget-view+json": {
       "model_id": "90ad533645a44caaa56bf33c569b38bf",
       "version_major": 2,
       "version_minor": 0
      },
      "text/plain": [
       "VBox(children=(HTML(value=\" <i>'Greatest President, President Donald Trump, my good friend. '</i><br>\"), HBox(…"
      ]
     },
     "metadata": {},
     "output_type": "display_data"
    }
   ],
   "source": [
    "positive.next()"
   ]
  },
  {
   "cell_type": "markdown",
   "metadata": {},
   "source": [
    "Note that the google api is not good at detecting sarcasm yet......."
   ]
  },
  {
   "cell_type": "markdown",
   "metadata": {},
   "source": [
    "## Comparison between two politicians\n",
    "With the compare function of polispec you can get a comparitive display for two politicians"
   ]
  },
  {
   "cell_type": "markdown",
   "metadata": {},
   "source": [
    "### Create another politician\n",
    "Begin by creating another politician object and getting. We can try Joe Biden"
   ]
  },
  {
   "cell_type": "code",
   "execution_count": 9,
   "metadata": {},
   "outputs": [
    {
     "name": "stdout",
     "output_type": "stream",
     "text": [
      "Joe Biden, tweets: 0, positive:0, negative: 0, neutral: 0\n"
     ]
    }
   ],
   "source": [
    "biden = Politician(\"Joe Biden\")\n",
    "print(biden)"
   ]
  },
  {
   "cell_type": "code",
   "execution_count": 10,
   "metadata": {},
   "outputs": [
    {
     "name": "stdout",
     "output_type": "stream",
     "text": [
      "Google api client connection established...\n",
      "\n",
      "Query for twitter api: https://api.twitter.com/2/tweets/search/recent?query=Joe%20Biden%20lang%3Aen%20-is%3Aretweet%20-is%3Areply\n",
      "\n",
      "Analyzing....\n",
      "\n",
      "Tweets processed: 100\n",
      "Tweets processed: 199\n",
      "Tweets processed: 298\n",
      "Tweets processed: 397\n",
      "Tweets processed: 496\n",
      "Tweets processed: 595\n",
      "Tweets processed: 694\n",
      "Tweets processed: 694\n",
      "Analysis complete.\n",
      "\n"
     ]
    }
   ],
   "source": [
    "biden.analyze_tweets(hour_count = 2,display=False)"
   ]
  },
  {
   "cell_type": "markdown",
   "metadata": {},
   "source": [
    "### Quick overview with summary\n",
    "To get a quick feel for the Biden data we can use the summary function instead of display_statistics. Summary also gives a few examples of the most popular tweets. "
   ]
  },
  {
   "cell_type": "code",
   "execution_count": 11,
   "metadata": {},
   "outputs": [
    {
     "name": "stdout",
     "output_type": "stream",
     "text": [
      "-------------------------------------\n",
      "RESULTS\n",
      "+----------------------------------------+\n",
      "|  Statistic of sentiment for Joe Biden  |\n",
      "+--------------+---------+---------------+\n",
      "|  Sentiment   |  Count  |   Percentage  |\n",
      "+--------------+---------+---------------+\n",
      "|   Positive   |    65   |     9.37%     |\n",
      "|   Negaitve   |   326   |     46.97%    |\n",
      "|   Neutral    |   333   |     47.98%    |\n",
      "+--------------+---------+---------------+\n",
      "\n",
      "Of 694 total tweets in the last 2 hours, 9.37% were positive, 46.97% were negative, 47.98% were neutral\n",
      "-------------------------------------\n",
      "EXAMPLE TWEETS\n",
      "\n",
      "POSITIVE\n"
     ]
    },
    {
     "data": {
      "application/vnd.jupyter.widget-view+json": {
       "model_id": "910acb25f2804ef0b459ad367726bf89",
       "version_major": 2,
       "version_minor": 0
      },
      "text/plain": [
       "VBox(children=(HTML(value=\" <i>'Joe Biden is the best thing that ever happened to the Taliban. '</i><br>\"), HB…"
      ]
     },
     "metadata": {},
     "output_type": "display_data"
    },
    {
     "data": {
      "application/vnd.jupyter.widget-view+json": {
       "model_id": "747c16ef7b6a4d4f940aa8d5f23c3de7",
       "version_major": 2,
       "version_minor": 0
      },
      "text/plain": [
       "VBox(children=(HTML(value=\" <i>'I say eff em all but this is pretty funny '</i><br>\"), HBox(children=(HTML(val…"
      ]
     },
     "metadata": {},
     "output_type": "display_data"
    },
    {
     "data": {
      "application/vnd.jupyter.widget-view+json": {
       "model_id": "45144d8ca75040e8909ede0d6f3d950d",
       "version_major": 2,
       "version_minor": 0
      },
      "text/plain": [
       "VBox(children=(HTML(value=\" <i>'I love it.\\nThe media trying to do damage control for F Joe Biden with Let's G…"
      ]
     },
     "metadata": {},
     "output_type": "display_data"
    },
    {
     "name": "stdout",
     "output_type": "stream",
     "text": [
      "-------------------------------------\n",
      "NEGATIVE\n"
     ]
    },
    {
     "data": {
      "application/vnd.jupyter.widget-view+json": {
       "model_id": "69c5542919b244109834f631a23ca81d",
       "version_major": 2,
       "version_minor": 0
      },
      "text/plain": [
       "VBox(children=(HTML(value=\" <i>'Tulsi Gabbard accuses Biden's Homeland Security Sec. Mayorkas of boldly lying …"
      ]
     },
     "metadata": {},
     "output_type": "display_data"
    },
    {
     "data": {
      "application/vnd.jupyter.widget-view+json": {
       "model_id": "c3f3eb07e1de40818652571e4b8e85ce",
       "version_major": 2,
       "version_minor": 0
      },
      "text/plain": [
       "VBox(children=(HTML(value=\" <i>'Imagine being a Democrat voter still supporting Joe Biden then defending this …"
      ]
     },
     "metadata": {},
     "output_type": "display_data"
    },
    {
     "data": {
      "application/vnd.jupyter.widget-view+json": {
       "model_id": "efc781134fd84000843a09b8e0cf8f07",
       "version_major": 2,
       "version_minor": 0
      },
      "text/plain": [
       "VBox(children=(HTML(value=\" <i>'Sinema is ignoring President Biden’s phone calls and blocks his agenda. Joe Ma…"
      ]
     },
     "metadata": {},
     "output_type": "display_data"
    },
    {
     "name": "stdout",
     "output_type": "stream",
     "text": [
      "-------------------------------------\n",
      "NEUTRAL\n"
     ]
    },
    {
     "data": {
      "application/vnd.jupyter.widget-view+json": {
       "model_id": "5b2da0e020ef477eaf89c34a83af2531",
       "version_major": 2,
       "version_minor": 0
      },
      "text/plain": [
       "VBox(children=(HTML(value=\" <i>'My five year old grandson who is the light of my life visited this weekend. He…"
      ]
     },
     "metadata": {},
     "output_type": "display_data"
    },
    {
     "data": {
      "application/vnd.jupyter.widget-view+json": {
       "model_id": "20cdb2d14a22418d883c0f8c18587b93",
       "version_major": 2,
       "version_minor": 0
      },
      "text/plain": [
       "VBox(children=(HTML(value=\" <i>'Joe Biden lost the border, the economy, Afghanistan, law enforcement, internat…"
      ]
     },
     "metadata": {},
     "output_type": "display_data"
    },
    {
     "data": {
      "application/vnd.jupyter.widget-view+json": {
       "model_id": "beeb2ff88dc8483091657802c8ac9c4d",
       "version_major": 2,
       "version_minor": 0
      },
      "text/plain": [
       "VBox(children=(HTML(value=' <i>\\'2 YEARS AGO TODAY: Joe Biden asked Anderson Cooper if he remembered \"gay bath…"
      ]
     },
     "metadata": {},
     "output_type": "display_data"
    }
   ],
   "source": [
    "biden.summary()"
   ]
  },
  {
   "cell_type": "markdown",
   "metadata": {},
   "source": [
    "### Comparison of Trump and Biden\n",
    "\n",
    "Using the compare function from polispec, the comparison of the two politicians can be displayed"
   ]
  },
  {
   "cell_type": "code",
   "execution_count": 12,
   "metadata": {},
   "outputs": [
    {
     "name": "stdout",
     "output_type": "stream",
     "text": [
      "-------------------------------------\n",
      "RESULTS\n",
      "+------------------------------------------------------------+\n",
      "|   Statistic of sentiment for Donald Trump vs. Joe Biden    |\n",
      "+-----------+-------------------------+----------------------+\n",
      "| Sentiment | Percentage Donald Trump | Percentage Joe Biden |\n",
      "+-----------+-------------------------+----------------------+\n",
      "|  Positive |          10.48%         |        9.37%         |\n",
      "|  Negaitve |          49.6%          |        46.97%        |\n",
      "|  Neutral  |          54.23%         |        47.98%        |\n",
      "+-----------+-------------------------+----------------------+\n",
      "\n",
      "Of 496 tweets on Donald Trump from 00:03-11-10-2021 to 02:03-11-10-2021, 10.48% were positive, 49.6% were negative, 54.23% were neutral\n",
      "Of 694 tweets on Joe Biden from 00:09-11-10-2021 to 02:09-11-10-2021, 9.37% were positive, 46.97% were negative, 47.98% were neutral\n"
     ]
    }
   ],
   "source": [
    "polispec.compare(donald,biden)"
   ]
  }
 ],
 "metadata": {
  "interpreter": {
   "hash": "aee8b7b246df8f9039afb4144a1f6fd8d2ca17a180786b69acc140d282b71a49"
  },
  "kernelspec": {
   "display_name": "Python 3.9.2 64-bit",
   "name": "python3"
  },
  "language_info": {
   "codemirror_mode": {
    "name": "ipython",
    "version": 3
   },
   "file_extension": ".py",
   "mimetype": "text/x-python",
   "name": "python",
   "nbconvert_exporter": "python",
   "pygments_lexer": "ipython3",
   "version": "3.9.2"
  },
  "orig_nbformat": 4
 },
 "nbformat": 4,
 "nbformat_minor": 2
}

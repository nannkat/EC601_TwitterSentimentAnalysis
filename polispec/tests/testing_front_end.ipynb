{
 "cells": [
  {
   "cell_type": "code",
   "execution_count": 1,
   "source": [
    "import polispec\n",
    "from polispec import Politician\n",
    "import ipywidgets as widgets"
   ],
   "outputs": [],
   "metadata": {}
  },
  {
   "cell_type": "markdown",
   "source": [
    "## Basic query test"
   ],
   "metadata": {}
  },
  {
   "cell_type": "code",
   "execution_count": 2,
   "source": [
    "donald = Politician('Donald Trump')"
   ],
   "outputs": [],
   "metadata": {}
  },
  {
   "cell_type": "code",
   "execution_count": 3,
   "source": [
    "donald.reset()\n",
    "donald.analyze_tweets(hour_count=0.25)"
   ],
   "outputs": [
    {
     "output_type": "stream",
     "name": "stdout",
     "text": [
      "Google api client connection established...\n",
      "\n",
      "Query for twitter api: https://api.twitter.com/2/tweets/search/recent?query=Donald%20Trump%20lang%3Aen%20-is%3Aretweet%20-is%3Areply\n",
      "\n",
      "Analyzing....\n",
      "\n",
      "Tweets processed: 82\n",
      "-------------------------------------\n",
      "RESULTS\n",
      "+------------------------------------------+\n",
      "| Statistic of sentiment for Donald Trump  |\n",
      "+---------------+---------+----------------+\n",
      "|   Sentiment   |  Count  |   Percentage   |\n",
      "+---------------+---------+----------------+\n",
      "|    Positive   |    3    |     3.66%      |\n",
      "|    Negaitve   |    43   |     52.44%     |\n",
      "|    Neutral    |    36   |     43.9%      |\n",
      "+---------------+---------+----------------+\n",
      "\n",
      "Of 82 total tweets in the last 0.25 hours, 3.66% were positive, 52.44% were negative, 43.9% were neutral\n"
     ]
    }
   ],
   "metadata": {}
  },
  {
   "cell_type": "code",
   "execution_count": 4,
   "source": [
    "print(donald.get_neg_tweet_count())\n",
    "print(donald.get_tweet_count())"
   ],
   "outputs": [
    {
     "output_type": "stream",
     "name": "stdout",
     "text": [
      "70\n",
      "200\n"
     ]
    }
   ],
   "metadata": {}
  },
  {
   "cell_type": "code",
   "execution_count": 6,
   "source": [
    "print(len(donald.examples))\n",
    "print(len(donald.examples.drop_duplicates()))"
   ],
   "outputs": [
    {
     "output_type": "stream",
     "name": "stdout",
     "text": [
      "185\n",
      "185\n"
     ]
    }
   ],
   "metadata": {}
  },
  {
   "cell_type": "code",
   "execution_count": 4,
   "source": [
    "examples = donald.examples_all()"
   ],
   "outputs": [],
   "metadata": {}
  },
  {
   "cell_type": "code",
   "execution_count": 7,
   "source": [
    "examples.clear()"
   ],
   "outputs": [],
   "metadata": {}
  },
  {
   "cell_type": "code",
   "execution_count": 4,
   "source": [
    "bid = Politician(\"Joe Biden\")\n",
    "bid.analyze_tweets(hour_count=0.15)"
   ],
   "outputs": [
    {
     "output_type": "stream",
     "name": "stdout",
     "text": [
      "Google api client connection established...\n",
      "\n",
      "Query for twitter api: https://api.twitter.com/2/tweets/search/recent?query=Joe%20Biden%20lang%3Aen%20-is%3Aretweet%20-is%3Areply\n",
      "\n",
      "Analyzing....\n",
      "\n",
      "Tweets retrieved: 38\n",
      "-------------------------------------\n",
      "RESULTS\n",
      "+----------------------------------------+\n",
      "|  Statistic of sentiment for Joe Biden  |\n",
      "+--------------+---------+---------------+\n",
      "|  Sentiment   |  Count  |   Percentage  |\n",
      "+--------------+---------+---------------+\n",
      "|   Positive   |    1    |     2.63%     |\n",
      "|   Negaitve   |    21   |     55.26%    |\n",
      "|   Neutral    |    16   |     42.11%    |\n",
      "+--------------+---------+---------------+\n",
      "\n",
      "Of 38 total tweets in the last 0.15 hours, 2.63% were positive, 55.26% were negative, 42.11% were neutral\n"
     ]
    }
   ],
   "metadata": {}
  },
  {
   "cell_type": "code",
   "execution_count": 5,
   "source": [
    "polispec.compare(donald, bid)"
   ],
   "outputs": [
    {
     "output_type": "stream",
     "name": "stdout",
     "text": [
      "-------------------------------------\n",
      "RESULTS\n",
      "+------------------------------------------------------------+\n",
      "|   Statistic of sentiment for Donald Trump vs. Joe Biden    |\n",
      "+-----------+-------------------------+----------------------+\n",
      "| Sentiment | Percentage Donald Trump | Percentage Joe Biden |\n",
      "+-----------+-------------------------+----------------------+\n",
      "|  Positive |          15.62%         |        2.63%         |\n",
      "|  Negaitve |          37.5%          |        55.26%        |\n",
      "|  Neutral  |          46.88%         |        42.11%        |\n",
      "+-----------+-------------------------+----------------------+\n",
      "\n",
      "Of 32 tweets on Donald Trump from 03:47-10-10-2021 to 03:56-10-10-2021, 15.62% were positive, 37.5% were negative, 46.88% were neutral\n",
      "Of 38 tweets on Joe Biden from 03:47-10-10-2021 to 03:56-10-10-2021, 2.63% were positive, 55.26% were negative, 42.11% were neutral\n"
     ]
    }
   ],
   "metadata": {}
  }
 ],
 "metadata": {
  "orig_nbformat": 4,
  "language_info": {
   "name": "python",
   "version": "3.9.2",
   "mimetype": "text/x-python",
   "codemirror_mode": {
    "name": "ipython",
    "version": 3
   },
   "pygments_lexer": "ipython3",
   "nbconvert_exporter": "python",
   "file_extension": ".py"
  },
  "kernelspec": {
   "name": "python3",
   "display_name": "Python 3.9.2 64-bit"
  },
  "interpreter": {
   "hash": "aee8b7b246df8f9039afb4144a1f6fd8d2ca17a180786b69acc140d282b71a49"
  }
 },
 "nbformat": 4,
 "nbformat_minor": 2
}
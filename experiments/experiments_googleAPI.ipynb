{
 "cells": [
  {
   "cell_type": "markdown",
   "source": [
    "# Experiments with the google API\n",
    "\n",
    "### With help from the following tutorial(s):\n",
    "- https://medium.com/google-cloud/sentiment-analysis-using-google-cloud-machine-learning-552be9b9c39b\n",
    "\n",
    "\n",
    "### Along with the following documentation(s):\n",
    "- https://cloud.google.com/natural-language/docs/reference/libraries#client-libraries-usage-python\\\n",
    "- https://developer.twitter.com/en/docs/tutorials/how-to-analyze-the-sentiment-of-your-own-tweets\n"
   ],
   "metadata": {}
  },
  {
   "cell_type": "markdown",
   "source": [
    "# Imports/Download\n",
    "\n",
    "### google-cloud-language library downloaded via the console with pip3 install --upgrade google-cloud-language and yaml via pip3 install pyyaml"
   ],
   "metadata": {}
  },
  {
   "cell_type": "code",
   "execution_count": 31,
   "source": [
    "import os\n",
    "import requests\n",
    "from google.cloud import language_v1\n",
    "import yaml\n",
    "import json\n"
   ],
   "outputs": [],
   "metadata": {}
  },
  {
   "cell_type": "markdown",
   "source": [
    "# Setting up Authentication for Google API\n",
    "\n",
    "### Mostly done online on the google cloud dashboard. Created service account. Then set the key as an environment variable:"
   ],
   "metadata": {}
  },
  {
   "cell_type": "code",
   "execution_count": 4,
   "source": [
    "os.environ['GOOGLE_APPLICATION_CREDENTIALS'] = \"/Users/Nanna/Desktop/EC601/google_keys/sentiment-analysis-test-327412-c89ef3ef857c.json\""
   ],
   "outputs": [],
   "metadata": {}
  },
  {
   "cell_type": "markdown",
   "source": [
    "# A simple query with custom test"
   ],
   "metadata": {}
  },
  {
   "cell_type": "markdown",
   "source": [
    "## Preparation"
   ],
   "metadata": {}
  },
  {
   "cell_type": "markdown",
   "source": [
    "### Instantiate a client object"
   ],
   "metadata": {}
  },
  {
   "cell_type": "code",
   "execution_count": 5,
   "source": [
    "client = language_v1.LanguageServiceClient()"
   ],
   "outputs": [],
   "metadata": {}
  },
  {
   "cell_type": "markdown",
   "source": [
    "### Generate text to analyze and make it a json document in the right format"
   ],
   "metadata": {}
  },
  {
   "cell_type": "code",
   "execution_count": 9,
   "source": [
    "#Text \n",
    "text = \"Hello world! You are beautiful.\"\n",
    "\n",
    "#create json document, content is text, document type plain text or html\n",
    "doc = language_v1.Document(content = text, type_= language_v1.Document.Type.PLAIN_TEXT)"
   ],
   "outputs": [],
   "metadata": {}
  },
  {
   "cell_type": "code",
   "execution_count": 7,
   "source": [
    "help(language_v1.Document)"
   ],
   "outputs": [
    {
     "output_type": "stream",
     "name": "stdout",
     "text": [
      "Help on class Document in module google.cloud.language_v1.types.language_service:\n",
      "\n",
      "class Document(proto.message.Message)\n",
      " |  Document(mapping=None, *, ignore_unknown_fields=False, **kwargs)\n",
      " |  \n",
      " |  Represents the input to API methods.\n",
      " |  \n",
      " |  Attributes:\n",
      " |      type_ (google.cloud.language_v1.types.Document.Type):\n",
      " |          Required. If the type is not set or is ``TYPE_UNSPECIFIED``,\n",
      " |          returns an ``INVALID_ARGUMENT`` error.\n",
      " |      content (str):\n",
      " |          The content of the input in string format.\n",
      " |          Cloud audit logging exempt since it is based on\n",
      " |          user data.\n",
      " |      gcs_content_uri (str):\n",
      " |          The Google Cloud Storage URI where the file content is\n",
      " |          located. This URI must be of the form:\n",
      " |          gs://bucket_name/object_name. For more details, see\n",
      " |          https://cloud.google.com/storage/docs/reference-uris. NOTE:\n",
      " |          Cloud Storage object versioning is not supported.\n",
      " |      language (str):\n",
      " |          The language of the document (if not specified, the language\n",
      " |          is automatically detected). Both ISO and BCP-47 language\n",
      " |          codes are accepted. `Language\n",
      " |          Support <https://cloud.google.com/natural-language/docs/languages>`__\n",
      " |          lists currently supported languages for each API method. If\n",
      " |          the language (either specified by the caller or\n",
      " |          automatically detected) is not supported by the called API\n",
      " |          method, an ``INVALID_ARGUMENT`` error is returned.\n",
      " |  \n",
      " |  Method resolution order:\n",
      " |      Document\n",
      " |      proto.message.Message\n",
      " |      builtins.object\n",
      " |  \n",
      " |  Data and other attributes defined here:\n",
      " |  \n",
      " |  Type = <enum 'Type'>\n",
      " |      The document types enum.\n",
      " |  \n",
      " |  \n",
      " |  ----------------------------------------------------------------------\n",
      " |  Methods inherited from proto.message.Message:\n",
      " |  \n",
      " |  __bool__(self)\n",
      " |      Return True if any field is truthy, False otherwise.\n",
      " |  \n",
      " |  __contains__(self, key)\n",
      " |      Return True if this field was set to something non-zero on the wire.\n",
      " |      \n",
      " |      In most cases, this method will return True when ``__getattr__``\n",
      " |      would return a truthy value and False when it would return a falsy\n",
      " |      value, so explicitly calling this is not useful.\n",
      " |      \n",
      " |      The exception case is empty messages explicitly set on the wire,\n",
      " |      which are falsy from ``__getattr__``. This method allows to\n",
      " |      distinguish between an explicitly provided empty message and the\n",
      " |      absence of that message, which is useful in some edge cases.\n",
      " |      \n",
      " |      The most common edge case is the use of ``google.protobuf.BoolValue``\n",
      " |      to get a boolean that distinguishes between ``False`` and ``None``\n",
      " |      (or the same for a string, int, etc.). This library transparently\n",
      " |      handles that case for you, but this method remains available to\n",
      " |      accomodate cases not automatically covered.\n",
      " |      \n",
      " |      Args:\n",
      " |          key (str): The name of the field.\n",
      " |      \n",
      " |      Returns:\n",
      " |          bool: Whether the field's value corresponds to a non-empty\n",
      " |              wire serialization.\n",
      " |  \n",
      " |  __delattr__(self, key)\n",
      " |      Delete the value on the given field.\n",
      " |      \n",
      " |      This is generally equivalent to setting a falsy value.\n",
      " |  \n",
      " |  __eq__(self, other)\n",
      " |      Return True if the messages are equal, False otherwise.\n",
      " |  \n",
      " |  __getattr__(self, key)\n",
      " |      Retrieve the given field's value.\n",
      " |      \n",
      " |      In protocol buffers, the presence of a field on a message is\n",
      " |      sufficient for it to always be \"present\".\n",
      " |      \n",
      " |      For primitives, a value of the correct type will always be returned\n",
      " |      (the \"falsy\" values in protocol buffers consistently match those\n",
      " |      in Python). For repeated fields, the falsy value is always an empty\n",
      " |      sequence.\n",
      " |      \n",
      " |      For messages, protocol buffers does distinguish between an empty\n",
      " |      message and absence, but this distinction is subtle and rarely\n",
      " |      relevant. Therefore, this method always returns an empty message\n",
      " |      (following the official implementation). To check for message\n",
      " |      presence, use ``key in self`` (in other words, ``__contains__``).\n",
      " |      \n",
      " |      .. note::\n",
      " |      \n",
      " |          Some well-known protocol buffer types\n",
      " |          (e.g. ``google.protobuf.Timestamp``) will be converted to\n",
      " |          their Python equivalents. See the ``marshal`` module for\n",
      " |          more details.\n",
      " |  \n",
      " |  __init__(self, mapping=None, *, ignore_unknown_fields=False, **kwargs)\n",
      " |      Initialize self.  See help(type(self)) for accurate signature.\n",
      " |  \n",
      " |  __ne__(self, other)\n",
      " |      Return True if the messages are unequal, False otherwise.\n",
      " |  \n",
      " |  __repr__(self)\n",
      " |      Return repr(self).\n",
      " |  \n",
      " |  __setattr__(self, key, value)\n",
      " |      Set the value on the given field.\n",
      " |      \n",
      " |      For well-known protocol buffer types which are marshalled, either\n",
      " |      the protocol buffer object or the Python equivalent is accepted.\n",
      " |  \n",
      " |  ----------------------------------------------------------------------\n",
      " |  Data descriptors inherited from proto.message.Message:\n",
      " |  \n",
      " |  __dict__\n",
      " |      dictionary for instance variables (if defined)\n",
      " |  \n",
      " |  __weakref__\n",
      " |      list of weak references to the object (if defined)\n",
      " |  \n",
      " |  ----------------------------------------------------------------------\n",
      " |  Data and other attributes inherited from proto.message.Message:\n",
      " |  \n",
      " |  __hash__ = None\n",
      "\n"
     ]
    }
   ],
   "metadata": {}
  },
  {
   "cell_type": "markdown",
   "source": [
    "## Request for analysis "
   ],
   "metadata": {}
  },
  {
   "cell_type": "markdown",
   "source": [
    "### Request passed and sentiment analysis of the sentence gotten and printed"
   ],
   "metadata": {}
  },
  {
   "cell_type": "code",
   "execution_count": 16,
   "source": [
    "sentiment_analysis = client.analyze_sentiment(request ={'document': doc})"
   ],
   "outputs": [],
   "metadata": {}
  },
  {
   "cell_type": "code",
   "execution_count": 17,
   "source": [
    "print(type(sentiment_analysis))"
   ],
   "outputs": [
    {
     "output_type": "stream",
     "name": "stdout",
     "text": [
      "<class 'google.cloud.language_v1.types.language_service.AnalyzeSentimentResponse'>\n"
     ]
    }
   ],
   "metadata": {}
  },
  {
   "cell_type": "code",
   "execution_count": 25,
   "source": [
    "print(\"Full text: {}\".format(text))\n",
    "print()\n",
    "print(\"Overall sentiment of document:\\n{}\".format(sentiment_analysis.document_sentiment))\n",
    "print(\"Individual sentence scores:\\n{}\".format(sentiment_analysis.sentences))"
   ],
   "outputs": [
    {
     "output_type": "stream",
     "name": "stdout",
     "text": [
      "Full text: Hello world! You are beautiful.\n",
      "\n",
      "Overall sentiment of document:\n",
      "magnitude: 1.7000000476837158\n",
      "score: 0.800000011920929\n",
      "\n",
      "Individual sentence scores:\n",
      "[text {\n",
      "  content: \"Hello world!\"\n",
      "  begin_offset: -1\n",
      "}\n",
      "sentiment {\n",
      "  magnitude: 0.699999988079071\n",
      "  score: 0.699999988079071\n",
      "}\n",
      ", text {\n",
      "  content: \"You are beautiful.\"\n",
      "  begin_offset: -1\n",
      "}\n",
      "sentiment {\n",
      "  magnitude: 0.8999999761581421\n",
      "  score: 0.8999999761581421\n",
      "}\n",
      "]\n"
     ]
    }
   ],
   "metadata": {}
  },
  {
   "cell_type": "markdown",
   "source": [
    "### Inspecting individual sentences test"
   ],
   "metadata": {}
  },
  {
   "cell_type": "code",
   "execution_count": 30,
   "source": [
    "first = sentiment_analysis.sentences[0]\n",
    "print(\"Sentiment of first sentence\\nContent: {}\\nMagnitude: {}\\nScore: {}\".format(first.text.content, first.sentiment.magnitude, first.sentiment.score ))"
   ],
   "outputs": [
    {
     "output_type": "stream",
     "name": "stdout",
     "text": [
      "Sentiment of first sentence\n",
      "Content: Hello world!\n",
      "Magnitude: 0.699999988079071\n",
      "Score: 0.699999988079071\n"
     ]
    }
   ],
   "metadata": {}
  },
  {
   "cell_type": "markdown",
   "source": [
    "# Getting a tweets and passing them to google for analyzing the sentiment\n",
    "\n",
    "### Testing future workflow for the project"
   ],
   "metadata": {}
  },
  {
   "cell_type": "markdown",
   "source": [
    "## Manage Twitter API Credentials"
   ],
   "metadata": {}
  },
  {
   "cell_type": "markdown",
   "source": [
    "### Create .yaml file for bearer instead of environment file and read credentials in. Create header object for url"
   ],
   "metadata": {}
  },
  {
   "cell_type": "code",
   "execution_count": 44,
   "source": [
    "def get_credentials():\n",
    "    with open(\"/Users/Nanna/Desktop/EC601/twitter_sentiment_analysis/creds.yaml\") as file:\n",
    "        return yaml.safe_load(file)\n",
    "\n",
    "def create_headers(bearer_token):\n",
    "    headers = {}\n",
    "    headers[\"Authorization\"] = \"Bearer {}\".format(bearer_token)\n",
    "    return headers"
   ],
   "outputs": [],
   "metadata": {}
  },
  {
   "cell_type": "code",
   "execution_count": 45,
   "source": [
    "#initialise bearer token and create a header.\n",
    "creds = get_credentials()\n",
    "bearer_token = creds['twitter_api']['bearer_token']\n",
    "headers = create_headers(bearer_token)"
   ],
   "outputs": [],
   "metadata": {}
  },
  {
   "cell_type": "markdown",
   "source": [
    "## Create URL for Twitter request\n",
    "### Test query: tweets on trump"
   ],
   "metadata": {}
  },
  {
   "cell_type": "code",
   "execution_count": 46,
   "source": [
    "#create url\n",
    "    #query Trump lang:en\n",
    "def create_request():\n",
    "    url = 'https://api.twitter.com/2/tweets/search/recent?query=Trump%20lang%3Aen'\n",
    "    parameters = {\n",
    "            'start_time': {},\n",
    "            'end_time': {},\n",
    "            'max_results' : 10,\n",
    "            'expansions' : 'attachments.media_keys',\n",
    "            'tweet.fields': 'created_at,public_metrics',\n",
    "            'next_token': {}\n",
    "        }\n",
    "    return (url, parameters)\n",
    "\n",
    "def connect_to_endpoint(url, headers, params = None):\n",
    "    response = requests.request(\"GET\", url, headers = headers, params = params)\n",
    "    print(\"Endpoint Response Code: \" + str(response.status_code))\n",
    "    if response.status_code != 200:\n",
    "        raise Exception(response.status_code, response.text)\n",
    "    return response.json()"
   ],
   "outputs": [],
   "metadata": {}
  },
  {
   "cell_type": "markdown",
   "source": [
    "## Connect to twitter and inspect tweets recieved"
   ],
   "metadata": {}
  },
  {
   "cell_type": "code",
   "execution_count": 47,
   "source": [
    "url, params = create_request()\n",
    "twitter_response = connect_to_endpoint(url, headers, params)"
   ],
   "outputs": [
    {
     "output_type": "stream",
     "name": "stdout",
     "text": [
      "Endpoint Response Code: 200\n"
     ]
    }
   ],
   "metadata": {}
  },
  {
   "cell_type": "code",
   "execution_count": 50,
   "source": [
    "print(json.dumps(twitter_response['data'], indent= 4, sort_keys=True))"
   ],
   "outputs": [
    {
     "output_type": "stream",
     "name": "stdout",
     "text": [
      "[\n",
      "    {\n",
      "        \"created_at\": \"2021-09-30T01:35:18.000Z\",\n",
      "        \"id\": \"1443388957044129798\",\n",
      "        \"public_metrics\": {\n",
      "            \"like_count\": 0,\n",
      "            \"quote_count\": 0,\n",
      "            \"reply_count\": 0,\n",
      "            \"retweet_count\": 82\n",
      "        },\n",
      "        \"text\": \"RT @TayFromCA: Pam Bondi, the very talented and honorable frmr AG of FL, has our complete faith and confidence in taking over MAGA Action.\\u2026\"\n",
      "    },\n",
      "    {\n",
      "        \"attachments\": {\n",
      "            \"media_keys\": [\n",
      "                \"7_1443388515157430273\"\n",
      "            ]\n",
      "        },\n",
      "        \"created_at\": \"2021-09-30T01:35:18.000Z\",\n",
      "        \"id\": \"1443388957023211522\",\n",
      "        \"public_metrics\": {\n",
      "            \"like_count\": 0,\n",
      "            \"quote_count\": 0,\n",
      "            \"reply_count\": 0,\n",
      "            \"retweet_count\": 0\n",
      "        },\n",
      "        \"text\": \"This video message is for Donald Trump and Fox news maybe this will help with those cry baby attitudes.\\nUnited States Diplomat\\nLarry Kuchenmeister https://t.co/086Zzkyl27\"\n",
      "    },\n",
      "    {\n",
      "        \"created_at\": \"2021-09-30T01:35:18.000Z\",\n",
      "        \"id\": \"1443388954259173378\",\n",
      "        \"public_metrics\": {\n",
      "            \"like_count\": 0,\n",
      "            \"quote_count\": 0,\n",
      "            \"reply_count\": 0,\n",
      "            \"retweet_count\": 32\n",
      "        },\n",
      "        \"text\": \"RT @jennycohn1: \\u201cBut Trump\\u2019s election lies do not justify ignoring legitimate concerns about election security. Nor do they provide a free\\u2026\"\n",
      "    },\n",
      "    {\n",
      "        \"created_at\": \"2021-09-30T01:35:17.000Z\",\n",
      "        \"id\": \"1443388952002629632\",\n",
      "        \"public_metrics\": {\n",
      "            \"like_count\": 1,\n",
      "            \"quote_count\": 0,\n",
      "            \"reply_count\": 0,\n",
      "            \"retweet_count\": 1\n",
      "        },\n",
      "        \"text\": \"@0rdb9 @Drealstudmuffin @earthing5000 @timfisher836 @laura_7771 @Erica7016 @Mrcy_Grce @KeysLiisa @aingelgrl @ReallyKW @smrose29 @WenMaMa2 @JayC1l @ImaP91 @SPR2021 @Vet4DJT @txark76 @RDog861 @SunIslandMusic You are very welcome, Trump Supporter\\n@0rdb9\"\n",
      "    },\n",
      "    {\n",
      "        \"created_at\": \"2021-09-30T01:35:17.000Z\",\n",
      "        \"id\": \"1443388951776006144\",\n",
      "        \"public_metrics\": {\n",
      "            \"like_count\": 0,\n",
      "            \"quote_count\": 0,\n",
      "            \"reply_count\": 0,\n",
      "            \"retweet_count\": 6625\n",
      "        },\n",
      "        \"text\": \"RT @RepSwalwell: ICYMI, here\\u2019s what we learned at yesterday\\u2019s House Armed Services hearing: President Trump\\u2019s weak deal with the Taliban fr\\u2026\"\n",
      "    },\n",
      "    {\n",
      "        \"created_at\": \"2021-09-30T01:35:17.000Z\",\n",
      "        \"id\": \"1443388950303883265\",\n",
      "        \"public_metrics\": {\n",
      "            \"like_count\": 0,\n",
      "            \"quote_count\": 0,\n",
      "            \"reply_count\": 0,\n",
      "            \"retweet_count\": 2\n",
      "        },\n",
      "        \"text\": \"RT @Stevepoges: What\\u2019s the trump organization\\u2019s motto, I\\u2019m thinking \\u2018If we can\\u2019t screw em, sue em\\u2019\"\n",
      "    },\n",
      "    {\n",
      "        \"created_at\": \"2021-09-30T01:35:17.000Z\",\n",
      "        \"id\": \"1443388949779468300\",\n",
      "        \"public_metrics\": {\n",
      "            \"like_count\": 0,\n",
      "            \"quote_count\": 0,\n",
      "            \"reply_count\": 0,\n",
      "            \"retweet_count\": 6625\n",
      "        },\n",
      "        \"text\": \"RT @RepSwalwell: ICYMI, here\\u2019s what we learned at yesterday\\u2019s House Armed Services hearing: President Trump\\u2019s weak deal with the Taliban fr\\u2026\"\n",
      "    },\n",
      "    {\n",
      "        \"created_at\": \"2021-09-30T01:35:16.000Z\",\n",
      "        \"id\": \"1443388948928245764\",\n",
      "        \"public_metrics\": {\n",
      "            \"like_count\": 0,\n",
      "            \"quote_count\": 0,\n",
      "            \"reply_count\": 0,\n",
      "            \"retweet_count\": 182\n",
      "        },\n",
      "        \"text\": \"RT @FrankAmari2: @GOPLeader At the risk of confusing the issue with facts:\\n\\nReported yesterday:\\n\\n\\\"In deep red West Virginia, Biden\\u2019s $3.5tn\\u2026\"\n",
      "    },\n",
      "    {\n",
      "        \"created_at\": \"2021-09-30T01:35:16.000Z\",\n",
      "        \"id\": \"1443388948840124417\",\n",
      "        \"public_metrics\": {\n",
      "            \"like_count\": 0,\n",
      "            \"quote_count\": 0,\n",
      "            \"reply_count\": 0,\n",
      "            \"retweet_count\": 0\n",
      "        },\n",
      "        \"text\": \"@ErinNorthStar real talk trump has skewed my view of republicans so much that i automatically think someone who has the US flag in their name and/or bio is irritatingly patriotic. it hurts to think that way and just jump to conclusions but it\\u2019s practically instinct now\"\n",
      "    },\n",
      "    {\n",
      "        \"created_at\": \"2021-09-30T01:35:16.000Z\",\n",
      "        \"id\": \"1443388947984314368\",\n",
      "        \"public_metrics\": {\n",
      "            \"like_count\": 0,\n",
      "            \"quote_count\": 0,\n",
      "            \"reply_count\": 0,\n",
      "            \"retweet_count\": 3\n",
      "        },\n",
      "        \"text\": \"RT @MsAvaArmstrong: TDS (Trump Derangement Syndrome) is real.\\nthe idiot Marxists stalking me on my timeline\\nprove it.\"\n",
      "    }\n",
      "]\n"
     ]
    }
   ],
   "metadata": {}
  },
  {
   "cell_type": "markdown",
   "source": [
    "### Extracting just text for sentiment analysis test"
   ],
   "metadata": {}
  },
  {
   "cell_type": "code",
   "execution_count": 56,
   "source": [
    "print(json.dumps(twitter_response['data'][0]['text'], indent= 4, sort_keys=True))\n",
    "print()\n",
    "print(len(twitter_response['data']))"
   ],
   "outputs": [
    {
     "output_type": "stream",
     "name": "stdout",
     "text": [
      "\"RT @TayFromCA: Pam Bondi, the very talented and honorable frmr AG of FL, has our complete faith and confidence in taking over MAGA Action.\\u2026\"\n",
      "\n",
      "10\n"
     ]
    }
   ],
   "metadata": {}
  },
  {
   "cell_type": "markdown",
   "source": [
    "## Analyzing the sentiment of the Trump tweets "
   ],
   "metadata": {}
  },
  {
   "cell_type": "markdown",
   "source": [
    "### Create dummy function to check if score is positive or negative"
   ],
   "metadata": {}
  },
  {
   "cell_type": "code",
   "execution_count": 62,
   "source": [
    "def sentiment(score):\n",
    "    s = float(score)\n",
    "    if s > 0:\n",
    "        return \"positive\"\n",
    "    elif s == 0:\n",
    "        return \"neutral\"\n",
    "    else:\n",
    "        return \"negative\""
   ],
   "outputs": [],
   "metadata": {}
  },
  {
   "cell_type": "markdown",
   "source": [
    "## For loop that makes requests to the api and  to analyzes all the tweets"
   ],
   "metadata": {}
  },
  {
   "cell_type": "code",
   "execution_count": 63,
   "source": [
    "#do a loop to analyze all the tweets\n",
    "\n",
    "for tweet in twitter_response['data']:\n",
    "    text = tweet['text']\n",
    "    doc = language_v1.Document(content = text, type_= language_v1.Document.Type.PLAIN_TEXT)\n",
    "    sentiment_analysis = client.analyze_sentiment(request ={'document': doc})\n",
    "    mag = sentiment_analysis.document_sentiment.magnitude\n",
    "    score = sentiment_analysis.document_sentiment.score\n",
    "    print(\"Tweet: {}\".format(text))\n",
    "    print(\"Tweet sentiment magnitude: {}, score: {}\".format(mag, score))\n",
    "    print(\"Overall feeling: {}\".format(sentiment(score)))\n",
    "    print()"
   ],
   "outputs": [
    {
     "output_type": "stream",
     "name": "stdout",
     "text": [
      "Tweet: RT @TayFromCA: Pam Bondi, the very talented and honorable frmr AG of FL, has our complete faith and confidence in taking over MAGA Action.…\n",
      "Tweet sentiment magnitude: 0.5, score: 0.5\n",
      "Overall feeling: positive\n",
      "\n",
      "Tweet: This video message is for Donald Trump and Fox news maybe this will help with those cry baby attitudes.\n",
      "United States Diplomat\n",
      "Larry Kuchenmeister https://t.co/086Zzkyl27\n",
      "Tweet sentiment magnitude: 0.4000000059604645, score: 0.10000000149011612\n",
      "Overall feeling: positive\n",
      "\n",
      "Tweet: RT @jennycohn1: “But Trump’s election lies do not justify ignoring legitimate concerns about election security. Nor do they provide a free…\n",
      "Tweet sentiment magnitude: 1.600000023841858, score: -0.800000011920929\n",
      "Overall feeling: negative\n",
      "\n",
      "Tweet: @0rdb9 @Drealstudmuffin @earthing5000 @timfisher836 @laura_7771 @Erica7016 @Mrcy_Grce @KeysLiisa @aingelgrl @ReallyKW @smrose29 @WenMaMa2 @JayC1l @ImaP91 @SPR2021 @Vet4DJT @txark76 @RDog861 @SunIslandMusic You are very welcome, Trump Supporter\n",
      "@0rdb9\n",
      "Tweet sentiment magnitude: 0.8999999761581421, score: 0.8999999761581421\n",
      "Overall feeling: positive\n",
      "\n",
      "Tweet: RT @RepSwalwell: ICYMI, here’s what we learned at yesterday’s House Armed Services hearing: President Trump’s weak deal with the Taliban fr…\n",
      "Tweet sentiment magnitude: 0.6000000238418579, score: -0.6000000238418579\n",
      "Overall feeling: negative\n",
      "\n",
      "Tweet: RT @Stevepoges: What’s the trump organization’s motto, I’m thinking ‘If we can’t screw em, sue em’\n",
      "Tweet sentiment magnitude: 0.4000000059604645, score: -0.4000000059604645\n",
      "Overall feeling: negative\n",
      "\n",
      "Tweet: RT @RepSwalwell: ICYMI, here’s what we learned at yesterday’s House Armed Services hearing: President Trump’s weak deal with the Taliban fr…\n",
      "Tweet sentiment magnitude: 0.6000000238418579, score: -0.6000000238418579\n",
      "Overall feeling: negative\n",
      "\n",
      "Tweet: RT @FrankAmari2: @GOPLeader At the risk of confusing the issue with facts:\n",
      "\n",
      "Reported yesterday:\n",
      "\n",
      "\"In deep red West Virginia, Biden’s $3.5tn…\n",
      "Tweet sentiment magnitude: 1.0, score: -0.30000001192092896\n",
      "Overall feeling: negative\n",
      "\n",
      "Tweet: @ErinNorthStar real talk trump has skewed my view of republicans so much that i automatically think someone who has the US flag in their name and/or bio is irritatingly patriotic. it hurts to think that way and just jump to conclusions but it’s practically instinct now\n",
      "Tweet sentiment magnitude: 0.8999999761581421, score: -0.30000001192092896\n",
      "Overall feeling: negative\n",
      "\n",
      "Tweet: RT @MsAvaArmstrong: TDS (Trump Derangement Syndrome) is real.\n",
      "the idiot Marxists stalking me on my timeline\n",
      "prove it.\n",
      "Tweet sentiment magnitude: 1.0, score: -0.30000001192092896\n",
      "Overall feeling: negative\n",
      "\n"
     ]
    }
   ],
   "metadata": {}
  },
  {
   "cell_type": "markdown",
   "source": [
    "# Conlcusion\n",
    "### As this was experimentation I allowed myself a rather free format. For the project I see I need to find a good workflow for the requests and keep things organized. The tweets might need some preprocessing, make sure the query is robust and make the sensitivity scale more detailed. Also, the sentiment analysis might be better to do in a single call to the api instead of n calls for n tweets"
   ],
   "metadata": {}
  }
 ],
 "metadata": {
  "orig_nbformat": 4,
  "language_info": {
   "name": "python",
   "version": "3.9.2",
   "mimetype": "text/x-python",
   "codemirror_mode": {
    "name": "ipython",
    "version": 3
   },
   "pygments_lexer": "ipython3",
   "nbconvert_exporter": "python",
   "file_extension": ".py"
  },
  "kernelspec": {
   "name": "python3",
   "display_name": "Python 3.9.2 64-bit"
  },
  "interpreter": {
   "hash": "aee8b7b246df8f9039afb4144a1f6fd8d2ca17a180786b69acc140d282b71a49"
  }
 },
 "nbformat": 4,
 "nbformat_minor": 2
}